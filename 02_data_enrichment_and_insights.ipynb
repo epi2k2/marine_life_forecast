{
 "cells": [
  {
   "cell_type": "markdown",
   "id": "heavy-tonight",
   "metadata": {
    "toc": true
   },
   "source": [
    "<h1>Table of Contents<span class=\"tocSkip\"></span></h1>\n",
    "<div class=\"toc\"><ul class=\"toc-item\"><li><span><a href=\"#Marine-life-forecast---Data-enrichment-and-insights\" data-toc-modified-id=\"Marine-life-forecast---Data-enrichment-and-insights-1\"><span class=\"toc-item-num\">1&nbsp;&nbsp;</span>Marine life forecast - Data enrichment and insights</a></span><ul class=\"toc-item\"><li><span><a href=\"#Introduction\" data-toc-modified-id=\"Introduction-1.1\"><span class=\"toc-item-num\">1.1&nbsp;&nbsp;</span>Introduction</a></span></li></ul></li><li><span><a href=\"#Importing-libraries\" data-toc-modified-id=\"Importing-libraries-2\"><span class=\"toc-item-num\">2&nbsp;&nbsp;</span>Importing libraries</a></span></li><li><span><a href=\"#Importing-data\" data-toc-modified-id=\"Importing-data-3\"><span class=\"toc-item-num\">3&nbsp;&nbsp;</span>Importing data</a></span></li><li><span><a href=\"#Downloading-taxa-common-names\" data-toc-modified-id=\"Downloading-taxa-common-names-4\"><span class=\"toc-item-num\">4&nbsp;&nbsp;</span>Downloading taxa common names</a></span></li><li><span><a href=\"#Creating-common-name-column\" data-toc-modified-id=\"Creating-common-name-column-5\"><span class=\"toc-item-num\">5&nbsp;&nbsp;</span>Creating common name column</a></span></li><li><span><a href=\"#Hour-extraction\" data-toc-modified-id=\"Hour-extraction-6\"><span class=\"toc-item-num\">6&nbsp;&nbsp;</span>Hour extraction</a></span></li><li><span><a href=\"#Target-selection\" data-toc-modified-id=\"Target-selection-7\"><span class=\"toc-item-num\">7&nbsp;&nbsp;</span>Target selection</a></span></li><li><span><a href=\"#Aggregate-rows-by-inmersion\" data-toc-modified-id=\"Aggregate-rows-by-inmersion-8\"><span class=\"toc-item-num\">8&nbsp;&nbsp;</span>Aggregate rows by inmersion</a></span></li><li><span><a href=\"#Insights\" data-toc-modified-id=\"Insights-9\"><span class=\"toc-item-num\">9&nbsp;&nbsp;</span>Insights</a></span><ul class=\"toc-item\"><li><span><a href=\"#Inmersions\" data-toc-modified-id=\"Inmersions-9.1\"><span class=\"toc-item-num\">9.1&nbsp;&nbsp;</span>Inmersions</a></span><ul class=\"toc-item\"><li><span><a href=\"#Inmersions-per-month\" data-toc-modified-id=\"Inmersions-per-month-9.1.1\"><span class=\"toc-item-num\">9.1.1&nbsp;&nbsp;</span>Inmersions per month</a></span></li><li><span><a href=\"#Inmersions-per-day-of-month\" data-toc-modified-id=\"Inmersions-per-day-of-month-9.1.2\"><span class=\"toc-item-num\">9.1.2&nbsp;&nbsp;</span>Inmersions per day of month</a></span></li><li><span><a href=\"#Inmersions-per-hour-of-day\" data-toc-modified-id=\"Inmersions-per-hour-of-day-9.1.3\"><span class=\"toc-item-num\">9.1.3&nbsp;&nbsp;</span>Inmersions per hour of day</a></span></li><li><span><a href=\"#Maximun-depths-distribution\" data-toc-modified-id=\"Maximun-depths-distribution-9.1.4\"><span class=\"toc-item-num\">9.1.4&nbsp;&nbsp;</span>Maximun depths distribution</a></span></li></ul></li><li><span><a href=\"#Targets\" data-toc-modified-id=\"Targets-9.2\"><span class=\"toc-item-num\">9.2&nbsp;&nbsp;</span>Targets</a></span><ul class=\"toc-item\"><li><span><a href=\"#Month\" data-toc-modified-id=\"Month-9.2.1\"><span class=\"toc-item-num\">9.2.1&nbsp;&nbsp;</span>Month</a></span></li><li><span><a href=\"#Hour\" data-toc-modified-id=\"Hour-9.2.2\"><span class=\"toc-item-num\">9.2.2&nbsp;&nbsp;</span>Hour</a></span></li><li><span><a href=\"#Depth\" data-toc-modified-id=\"Depth-9.2.3\"><span class=\"toc-item-num\">9.2.3&nbsp;&nbsp;</span>Depth</a></span></li></ul></li></ul></li><li><span><a href=\"#Exporting-data\" data-toc-modified-id=\"Exporting-data-10\"><span class=\"toc-item-num\">10&nbsp;&nbsp;</span>Exporting data</a></span></li></ul></div>"
   ]
  },
  {
   "cell_type": "markdown",
   "id": "happy-eligibility",
   "metadata": {},
   "source": [
    "# Marine life forecast - Data enrichment and insights"
   ]
  },
  {
   "cell_type": "markdown",
   "id": "african-grace",
   "metadata": {},
   "source": [
    "## Introduction\n",
    "In this notebook I'll download common names of animals, aggregate the dataset by inmersion and extract insights from it"
   ]
  },
  {
   "cell_type": "markdown",
   "id": "psychological-laugh",
   "metadata": {},
   "source": [
    "# Importing libraries"
   ]
  },
  {
   "cell_type": "code",
   "execution_count": 105,
   "id": "based-discovery",
   "metadata": {},
   "outputs": [],
   "source": [
    "import requests\n",
    "import numpy as np\n",
    "import pandas as pd\n",
    "import matplotlib.pyplot as plt\n",
    "import matplotlib.style as style\n",
    "import seaborn as sns\n",
    "pd.options.display.max_columns = None\n",
    "style.use('ggplot')\n",
    "%config Completer.use_jedi = False # Autocomplete works faster"
   ]
  },
  {
   "cell_type": "markdown",
   "id": "atomic-carry",
   "metadata": {},
   "source": [
    "# Importing data"
   ]
  },
  {
   "cell_type": "code",
   "execution_count": 106,
   "id": "horizontal-weapon",
   "metadata": {},
   "outputs": [],
   "source": [
    "data_folder = './data/'\n",
    "input_file = 'occurrence_cleaned.txt'\n",
    "df = pd.read_csv(data_folder + input_file)"
   ]
  },
  {
   "cell_type": "markdown",
   "id": "better-accident",
   "metadata": {},
   "source": [
    "# Downloading taxa common names\n",
    "Using GBIF API, I'll download vernacular names of every taxon. It is done passing the of taxon to the query"
   ]
  },
  {
   "cell_type": "markdown",
   "id": "genetic-argument",
   "metadata": {},
   "source": [
    "First of all, I create a function to download the vernacular name of taxon key passed as parameter. Language is set in english by default, but can be modified"
   ]
  },
  {
   "cell_type": "code",
   "execution_count": 107,
   "id": "orange-salmon",
   "metadata": {},
   "outputs": [],
   "source": [
    "def get_common_name(taxon_key, language='en'):\n",
    "    query = \"https://api.gbif.org/v1/species/\" + str(taxon_key) + '?language=' + language\n",
    "    request = requests.get(query)\n",
    "    if request.status_code != 200:\n",
    "        return None\n",
    "    if 'vernacularName' in (request.json().keys()):\n",
    "        return request.json()['vernacularName']"
   ]
  },
  {
   "cell_type": "markdown",
   "id": "ideal-adelaide",
   "metadata": {},
   "source": [
    "Create a dataframe with distinct combinations of taxa. NaN values are filled with -1"
   ]
  },
  {
   "cell_type": "code",
   "execution_count": 108,
   "id": "aging-airport",
   "metadata": {},
   "outputs": [
    {
     "data": {
      "text/html": [
       "<div>\n",
       "<style scoped>\n",
       "    .dataframe tbody tr th:only-of-type {\n",
       "        vertical-align: middle;\n",
       "    }\n",
       "\n",
       "    .dataframe tbody tr th {\n",
       "        vertical-align: top;\n",
       "    }\n",
       "\n",
       "    .dataframe thead th {\n",
       "        text-align: right;\n",
       "    }\n",
       "</style>\n",
       "<table border=\"1\" class=\"dataframe\">\n",
       "  <thead>\n",
       "    <tr style=\"text-align: right;\">\n",
       "      <th></th>\n",
       "      <th>orderKey</th>\n",
       "      <th>familyKey</th>\n",
       "      <th>genusKey</th>\n",
       "      <th>speciesKey</th>\n",
       "    </tr>\n",
       "  </thead>\n",
       "  <tbody>\n",
       "    <tr>\n",
       "      <th>0</th>\n",
       "      <td>793</td>\n",
       "      <td>9413</td>\n",
       "      <td>2441864</td>\n",
       "      <td>2442225</td>\n",
       "    </tr>\n",
       "    <tr>\n",
       "      <th>1</th>\n",
       "      <td>793</td>\n",
       "      <td>9413</td>\n",
       "      <td>2442206</td>\n",
       "      <td>8841716</td>\n",
       "    </tr>\n",
       "    <tr>\n",
       "      <th>8</th>\n",
       "      <td>587</td>\n",
       "      <td>4504</td>\n",
       "      <td>2371535</td>\n",
       "      <td>2393800</td>\n",
       "    </tr>\n",
       "    <tr>\n",
       "      <th>9</th>\n",
       "      <td>590</td>\n",
       "      <td>4508</td>\n",
       "      <td>2334432</td>\n",
       "      <td>2334440</td>\n",
       "    </tr>\n",
       "    <tr>\n",
       "      <th>11</th>\n",
       "      <td>587</td>\n",
       "      <td>8597</td>\n",
       "      <td>8252335</td>\n",
       "      <td>5210114</td>\n",
       "    </tr>\n",
       "  </tbody>\n",
       "</table>\n",
       "</div>"
      ],
      "text/plain": [
       "    orderKey  familyKey  genusKey  speciesKey\n",
       "0        793       9413   2441864     2442225\n",
       "1        793       9413   2442206     8841716\n",
       "8        587       4504   2371535     2393800\n",
       "9        590       4508   2334432     2334440\n",
       "11       587       8597   8252335     5210114"
      ]
     },
     "execution_count": 108,
     "metadata": {},
     "output_type": "execute_result"
    }
   ],
   "source": [
    "df_common_names = df[['orderKey', 'familyKey', 'genusKey', 'speciesKey']].drop_duplicates().copy()\n",
    "\n",
    "df_common_names.fillna(-1, inplace=True)\n",
    "\n",
    "for column in df_common_names.columns:\n",
    "    df_common_names[column] = df_common_names[column].astype(int)\n",
    "    \n",
    "df_common_names.head()"
   ]
  },
  {
   "cell_type": "markdown",
   "id": "hired-watershed",
   "metadata": {},
   "source": [
    "Let's start with species. Create a dataframe with distinct species keys"
   ]
  },
  {
   "cell_type": "code",
   "execution_count": 109,
   "id": "legal-indiana",
   "metadata": {},
   "outputs": [
    {
     "data": {
      "text/plain": [
       "3611"
      ]
     },
     "execution_count": 109,
     "metadata": {},
     "output_type": "execute_result"
    }
   ],
   "source": [
    "df_species_key = df_common_names[['speciesKey']].dropna().drop_duplicates()\n",
    "len(df_species_key)"
   ]
  },
  {
   "cell_type": "code",
   "execution_count": 110,
   "id": "collective-filename",
   "metadata": {},
   "outputs": [
    {
     "data": {
      "text/html": [
       "<div>\n",
       "<style scoped>\n",
       "    .dataframe tbody tr th:only-of-type {\n",
       "        vertical-align: middle;\n",
       "    }\n",
       "\n",
       "    .dataframe tbody tr th {\n",
       "        vertical-align: top;\n",
       "    }\n",
       "\n",
       "    .dataframe thead th {\n",
       "        text-align: right;\n",
       "    }\n",
       "</style>\n",
       "<table border=\"1\" class=\"dataframe\">\n",
       "  <thead>\n",
       "    <tr style=\"text-align: right;\">\n",
       "      <th></th>\n",
       "      <th>speciesKey</th>\n",
       "    </tr>\n",
       "  </thead>\n",
       "  <tbody>\n",
       "    <tr>\n",
       "      <th>0</th>\n",
       "      <td>2442225</td>\n",
       "    </tr>\n",
       "    <tr>\n",
       "      <th>1</th>\n",
       "      <td>8841716</td>\n",
       "    </tr>\n",
       "    <tr>\n",
       "      <th>8</th>\n",
       "      <td>2393800</td>\n",
       "    </tr>\n",
       "    <tr>\n",
       "      <th>9</th>\n",
       "      <td>2334440</td>\n",
       "    </tr>\n",
       "    <tr>\n",
       "      <th>11</th>\n",
       "      <td>5210114</td>\n",
       "    </tr>\n",
       "  </tbody>\n",
       "</table>\n",
       "</div>"
      ],
      "text/plain": [
       "    speciesKey\n",
       "0      2442225\n",
       "1      8841716\n",
       "8      2393800\n",
       "9      2334440\n",
       "11     5210114"
      ]
     },
     "execution_count": 110,
     "metadata": {},
     "output_type": "execute_result"
    }
   ],
   "source": [
    "df_species_key.head()"
   ]
  },
  {
   "cell_type": "markdown",
   "id": "important-process",
   "metadata": {},
   "source": [
    "Downloading common names of species"
   ]
  },
  {
   "cell_type": "code",
   "execution_count": 111,
   "id": "finite-child",
   "metadata": {},
   "outputs": [],
   "source": [
    "df_species_key['common_name_species'] = df_species_key['speciesKey'].apply(get_common_name)"
   ]
  },
  {
   "cell_type": "markdown",
   "id": "elect-merchant",
   "metadata": {},
   "source": [
    "There are some rows that have an error as response. For those values None is assign"
   ]
  },
  {
   "cell_type": "code",
   "execution_count": 112,
   "id": "reverse-budget",
   "metadata": {},
   "outputs": [
    {
     "data": {
      "text/html": [
       "<div>\n",
       "<style scoped>\n",
       "    .dataframe tbody tr th:only-of-type {\n",
       "        vertical-align: middle;\n",
       "    }\n",
       "\n",
       "    .dataframe tbody tr th {\n",
       "        vertical-align: top;\n",
       "    }\n",
       "\n",
       "    .dataframe thead th {\n",
       "        text-align: right;\n",
       "    }\n",
       "</style>\n",
       "<table border=\"1\" class=\"dataframe\">\n",
       "  <thead>\n",
       "    <tr style=\"text-align: right;\">\n",
       "      <th></th>\n",
       "      <th>speciesKey</th>\n",
       "      <th>common_name_species</th>\n",
       "    </tr>\n",
       "  </thead>\n",
       "  <tbody>\n",
       "    <tr>\n",
       "      <th>12</th>\n",
       "      <td>2289709</td>\n",
       "      <td>None</td>\n",
       "    </tr>\n",
       "    <tr>\n",
       "      <th>31</th>\n",
       "      <td>4359792</td>\n",
       "      <td>None</td>\n",
       "    </tr>\n",
       "    <tr>\n",
       "      <th>60</th>\n",
       "      <td>-1</td>\n",
       "      <td>None</td>\n",
       "    </tr>\n",
       "    <tr>\n",
       "      <th>93</th>\n",
       "      <td>5973132</td>\n",
       "      <td>None</td>\n",
       "    </tr>\n",
       "    <tr>\n",
       "      <th>135</th>\n",
       "      <td>9809158</td>\n",
       "      <td>None</td>\n",
       "    </tr>\n",
       "  </tbody>\n",
       "</table>\n",
       "</div>"
      ],
      "text/plain": [
       "     speciesKey common_name_species\n",
       "12      2289709                None\n",
       "31      4359792                None\n",
       "60           -1                None\n",
       "93      5973132                None\n",
       "135     9809158                None"
      ]
     },
     "execution_count": 112,
     "metadata": {},
     "output_type": "execute_result"
    }
   ],
   "source": [
    "df_species_key.loc[df_species_key['common_name_species'] == 'Error', 'common_name_species'] = None\n",
    "df_species_key[df_species_key['common_name_species'].isna()].head()"
   ]
  },
  {
   "cell_type": "markdown",
   "id": "passing-aggregate",
   "metadata": {},
   "source": [
    "Now, the same with genus"
   ]
  },
  {
   "cell_type": "code",
   "execution_count": 113,
   "id": "opposed-cliff",
   "metadata": {},
   "outputs": [
    {
     "data": {
      "text/plain": [
       "1692"
      ]
     },
     "execution_count": 113,
     "metadata": {},
     "output_type": "execute_result"
    }
   ],
   "source": [
    "df_genus_key = df_common_names[['genusKey']].dropna().drop_duplicates()\n",
    "len(df_genus_key)"
   ]
  },
  {
   "cell_type": "code",
   "execution_count": 114,
   "id": "endless-flight",
   "metadata": {},
   "outputs": [],
   "source": [
    "df_genus_key['common_name_genus'] = df_genus_key['genusKey'].apply(get_common_name)"
   ]
  },
  {
   "cell_type": "code",
   "execution_count": 115,
   "id": "frozen-individual",
   "metadata": {
    "scrolled": false
   },
   "outputs": [
    {
     "data": {
      "text/html": [
       "<div>\n",
       "<style scoped>\n",
       "    .dataframe tbody tr th:only-of-type {\n",
       "        vertical-align: middle;\n",
       "    }\n",
       "\n",
       "    .dataframe tbody tr th {\n",
       "        vertical-align: top;\n",
       "    }\n",
       "\n",
       "    .dataframe thead th {\n",
       "        text-align: right;\n",
       "    }\n",
       "</style>\n",
       "<table border=\"1\" class=\"dataframe\">\n",
       "  <thead>\n",
       "    <tr style=\"text-align: right;\">\n",
       "      <th></th>\n",
       "      <th>genusKey</th>\n",
       "      <th>common_name_genus</th>\n",
       "    </tr>\n",
       "  </thead>\n",
       "  <tbody>\n",
       "    <tr>\n",
       "      <th>11</th>\n",
       "      <td>8252335</td>\n",
       "      <td>None</td>\n",
       "    </tr>\n",
       "    <tr>\n",
       "      <th>12</th>\n",
       "      <td>2289226</td>\n",
       "      <td>None</td>\n",
       "    </tr>\n",
       "    <tr>\n",
       "      <th>13</th>\n",
       "      <td>9720698</td>\n",
       "      <td>None</td>\n",
       "    </tr>\n",
       "    <tr>\n",
       "      <th>14</th>\n",
       "      <td>2383304</td>\n",
       "      <td>None</td>\n",
       "    </tr>\n",
       "    <tr>\n",
       "      <th>19</th>\n",
       "      <td>2388808</td>\n",
       "      <td>None</td>\n",
       "    </tr>\n",
       "  </tbody>\n",
       "</table>\n",
       "</div>"
      ],
      "text/plain": [
       "    genusKey common_name_genus\n",
       "11   8252335              None\n",
       "12   2289226              None\n",
       "13   9720698              None\n",
       "14   2383304              None\n",
       "19   2388808              None"
      ]
     },
     "execution_count": 115,
     "metadata": {},
     "output_type": "execute_result"
    }
   ],
   "source": [
    "df_genus_key.loc[df_genus_key['common_name_genus'] == 'Error', 'common_name_genus'] = None\n",
    "df_genus_key[df_genus_key['common_name_genus'].isna()].head()"
   ]
  },
  {
   "cell_type": "markdown",
   "id": "split-activity",
   "metadata": {},
   "source": [
    "Turn for family"
   ]
  },
  {
   "cell_type": "code",
   "execution_count": 116,
   "id": "postal-booth",
   "metadata": {},
   "outputs": [
    {
     "data": {
      "text/plain": [
       "636"
      ]
     },
     "execution_count": 116,
     "metadata": {},
     "output_type": "execute_result"
    }
   ],
   "source": [
    "df_family_key = df_common_names[['familyKey']].dropna().drop_duplicates()\n",
    "len(df_family_key)"
   ]
  },
  {
   "cell_type": "code",
   "execution_count": 117,
   "id": "lesser-consumption",
   "metadata": {},
   "outputs": [],
   "source": [
    "df_family_key['common_name_family'] = df_family_key['familyKey'].apply(get_common_name)"
   ]
  },
  {
   "cell_type": "code",
   "execution_count": 118,
   "id": "brutal-detroit",
   "metadata": {},
   "outputs": [
    {
     "data": {
      "text/html": [
       "<div>\n",
       "<style scoped>\n",
       "    .dataframe tbody tr th:only-of-type {\n",
       "        vertical-align: middle;\n",
       "    }\n",
       "\n",
       "    .dataframe tbody tr th {\n",
       "        vertical-align: top;\n",
       "    }\n",
       "\n",
       "    .dataframe thead th {\n",
       "        text-align: right;\n",
       "    }\n",
       "</style>\n",
       "<table border=\"1\" class=\"dataframe\">\n",
       "  <thead>\n",
       "    <tr style=\"text-align: right;\">\n",
       "      <th></th>\n",
       "      <th>familyKey</th>\n",
       "      <th>common_name_family</th>\n",
       "    </tr>\n",
       "  </thead>\n",
       "  <tbody>\n",
       "    <tr>\n",
       "      <th>12</th>\n",
       "      <td>6835</td>\n",
       "      <td>None</td>\n",
       "    </tr>\n",
       "    <tr>\n",
       "      <th>25</th>\n",
       "      <td>9220</td>\n",
       "      <td>None</td>\n",
       "    </tr>\n",
       "    <tr>\n",
       "      <th>31</th>\n",
       "      <td>6560</td>\n",
       "      <td>None</td>\n",
       "    </tr>\n",
       "    <tr>\n",
       "      <th>52</th>\n",
       "      <td>6839</td>\n",
       "      <td>None</td>\n",
       "    </tr>\n",
       "    <tr>\n",
       "      <th>54</th>\n",
       "      <td>6825</td>\n",
       "      <td>None</td>\n",
       "    </tr>\n",
       "  </tbody>\n",
       "</table>\n",
       "</div>"
      ],
      "text/plain": [
       "    familyKey common_name_family\n",
       "12       6835               None\n",
       "25       9220               None\n",
       "31       6560               None\n",
       "52       6839               None\n",
       "54       6825               None"
      ]
     },
     "execution_count": 118,
     "metadata": {},
     "output_type": "execute_result"
    }
   ],
   "source": [
    "df_family_key.loc[df_family_key['common_name_family'] == 'Error', 'common_name_family'] = None\n",
    "df_family_key[df_family_key['common_name_family'].isna()].head()"
   ]
  },
  {
   "cell_type": "markdown",
   "id": "tracked-johnson",
   "metadata": {},
   "source": [
    "And the last one, order"
   ]
  },
  {
   "cell_type": "code",
   "execution_count": 119,
   "id": "decreased-clinic",
   "metadata": {
    "scrolled": true
   },
   "outputs": [
    {
     "data": {
      "text/plain": [
       "169"
      ]
     },
     "execution_count": 119,
     "metadata": {},
     "output_type": "execute_result"
    }
   ],
   "source": [
    "df_order_key = df_common_names[['orderKey']].dropna().drop_duplicates()\n",
    "len(df_order_key)"
   ]
  },
  {
   "cell_type": "code",
   "execution_count": 120,
   "id": "lined-liquid",
   "metadata": {},
   "outputs": [],
   "source": [
    "df_order_key['common_name_order'] = df_order_key['orderKey'].apply(get_common_name)"
   ]
  },
  {
   "cell_type": "code",
   "execution_count": 121,
   "id": "visible-night",
   "metadata": {},
   "outputs": [
    {
     "data": {
      "text/html": [
       "<div>\n",
       "<style scoped>\n",
       "    .dataframe tbody tr th:only-of-type {\n",
       "        vertical-align: middle;\n",
       "    }\n",
       "\n",
       "    .dataframe tbody tr th {\n",
       "        vertical-align: top;\n",
       "    }\n",
       "\n",
       "    .dataframe thead th {\n",
       "        text-align: right;\n",
       "    }\n",
       "</style>\n",
       "<table border=\"1\" class=\"dataframe\">\n",
       "  <thead>\n",
       "    <tr style=\"text-align: right;\">\n",
       "      <th></th>\n",
       "      <th>orderKey</th>\n",
       "      <th>common_name_order</th>\n",
       "    </tr>\n",
       "  </thead>\n",
       "  <tbody>\n",
       "    <tr>\n",
       "      <th>13</th>\n",
       "      <td>773</td>\n",
       "      <td>None</td>\n",
       "    </tr>\n",
       "    <tr>\n",
       "      <th>23</th>\n",
       "      <td>1080</td>\n",
       "      <td>None</td>\n",
       "    </tr>\n",
       "    <tr>\n",
       "      <th>46</th>\n",
       "      <td>810</td>\n",
       "      <td>None</td>\n",
       "    </tr>\n",
       "    <tr>\n",
       "      <th>54</th>\n",
       "      <td>8403901</td>\n",
       "      <td>None</td>\n",
       "    </tr>\n",
       "    <tr>\n",
       "      <th>191</th>\n",
       "      <td>9505681</td>\n",
       "      <td>None</td>\n",
       "    </tr>\n",
       "  </tbody>\n",
       "</table>\n",
       "</div>"
      ],
      "text/plain": [
       "     orderKey common_name_order\n",
       "13        773              None\n",
       "23       1080              None\n",
       "46        810              None\n",
       "54    8403901              None\n",
       "191   9505681              None"
      ]
     },
     "execution_count": 121,
     "metadata": {},
     "output_type": "execute_result"
    }
   ],
   "source": [
    "df_order_key.loc[df_order_key['common_name_order'] == 'Error', 'common_name_order'] = None\n",
    "df_order_key[df_order_key['common_name_order'].isna()].head()"
   ]
  },
  {
   "cell_type": "markdown",
   "id": "spoken-export",
   "metadata": {},
   "source": [
    "# Creating common name column\n",
    "Create an unique column with most known common name"
   ]
  },
  {
   "cell_type": "markdown",
   "id": "ignored-syndrome",
   "metadata": {},
   "source": [
    "Merge all dataframes that contain common names with the dataframe that contains keys of all taxa"
   ]
  },
  {
   "cell_type": "code",
   "execution_count": 122,
   "id": "acknowledged-frame",
   "metadata": {},
   "outputs": [],
   "source": [
    "df_common_names = df_common_names.merge(df_order_key, on='orderKey', how='left')"
   ]
  },
  {
   "cell_type": "code",
   "execution_count": 123,
   "id": "crazy-techno",
   "metadata": {},
   "outputs": [],
   "source": [
    "df_common_names = df_common_names.merge(df_family_key, on='familyKey', how='left')"
   ]
  },
  {
   "cell_type": "code",
   "execution_count": 124,
   "id": "fundamental-disney",
   "metadata": {},
   "outputs": [],
   "source": [
    "df_common_names = df_common_names.merge(df_genus_key, on='genusKey', how='left')"
   ]
  },
  {
   "cell_type": "code",
   "execution_count": 125,
   "id": "billion-grenada",
   "metadata": {},
   "outputs": [],
   "source": [
    "df_common_names = df_common_names.merge(df_species_key, on='speciesKey', how='left')"
   ]
  },
  {
   "cell_type": "code",
   "execution_count": 126,
   "id": "adaptive-phrase",
   "metadata": {
    "scrolled": false
   },
   "outputs": [
    {
     "data": {
      "text/html": [
       "<div>\n",
       "<style scoped>\n",
       "    .dataframe tbody tr th:only-of-type {\n",
       "        vertical-align: middle;\n",
       "    }\n",
       "\n",
       "    .dataframe tbody tr th {\n",
       "        vertical-align: top;\n",
       "    }\n",
       "\n",
       "    .dataframe thead th {\n",
       "        text-align: right;\n",
       "    }\n",
       "</style>\n",
       "<table border=\"1\" class=\"dataframe\">\n",
       "  <thead>\n",
       "    <tr style=\"text-align: right;\">\n",
       "      <th></th>\n",
       "      <th>orderKey</th>\n",
       "      <th>familyKey</th>\n",
       "      <th>genusKey</th>\n",
       "      <th>speciesKey</th>\n",
       "      <th>common_name_order</th>\n",
       "      <th>common_name_family</th>\n",
       "      <th>common_name_genus</th>\n",
       "      <th>common_name_species</th>\n",
       "    </tr>\n",
       "  </thead>\n",
       "  <tbody>\n",
       "    <tr>\n",
       "      <th>0</th>\n",
       "      <td>793</td>\n",
       "      <td>9413</td>\n",
       "      <td>2441864</td>\n",
       "      <td>2442225</td>\n",
       "      <td>turtle</td>\n",
       "      <td>Sea Turtles</td>\n",
       "      <td>green sea turtle</td>\n",
       "      <td>Green turtle</td>\n",
       "    </tr>\n",
       "    <tr>\n",
       "      <th>1</th>\n",
       "      <td>793</td>\n",
       "      <td>9413</td>\n",
       "      <td>2442206</td>\n",
       "      <td>8841716</td>\n",
       "      <td>turtle</td>\n",
       "      <td>Sea Turtles</td>\n",
       "      <td>Hawksbill Sea Turtles</td>\n",
       "      <td>Hawksbill turtle</td>\n",
       "    </tr>\n",
       "    <tr>\n",
       "      <th>2</th>\n",
       "      <td>587</td>\n",
       "      <td>4504</td>\n",
       "      <td>2371535</td>\n",
       "      <td>2393800</td>\n",
       "      <td>perch-like fish</td>\n",
       "      <td>parrotfishes</td>\n",
       "      <td>parrotfishes</td>\n",
       "      <td>Palenose parrotfish</td>\n",
       "    </tr>\n",
       "    <tr>\n",
       "      <th>3</th>\n",
       "      <td>590</td>\n",
       "      <td>4508</td>\n",
       "      <td>2334432</td>\n",
       "      <td>2334440</td>\n",
       "      <td>mail-cheeked fishes</td>\n",
       "      <td>firefishes</td>\n",
       "      <td>butterfly-cods</td>\n",
       "      <td>clearfin turkeyfish</td>\n",
       "    </tr>\n",
       "    <tr>\n",
       "      <th>4</th>\n",
       "      <td>587</td>\n",
       "      <td>8597</td>\n",
       "      <td>8252335</td>\n",
       "      <td>5210114</td>\n",
       "      <td>perch-like fish</td>\n",
       "      <td>groupers</td>\n",
       "      <td>None</td>\n",
       "      <td>bluedotted coraltrout</td>\n",
       "    </tr>\n",
       "  </tbody>\n",
       "</table>\n",
       "</div>"
      ],
      "text/plain": [
       "   orderKey  familyKey  genusKey  speciesKey    common_name_order  \\\n",
       "0       793       9413   2441864     2442225               turtle   \n",
       "1       793       9413   2442206     8841716               turtle   \n",
       "2       587       4504   2371535     2393800      perch-like fish   \n",
       "3       590       4508   2334432     2334440  mail-cheeked fishes   \n",
       "4       587       8597   8252335     5210114      perch-like fish   \n",
       "\n",
       "  common_name_family      common_name_genus    common_name_species  \n",
       "0        Sea Turtles       green sea turtle           Green turtle  \n",
       "1        Sea Turtles  Hawksbill Sea Turtles       Hawksbill turtle  \n",
       "2       parrotfishes           parrotfishes    Palenose parrotfish  \n",
       "3         firefishes         butterfly-cods    clearfin turkeyfish  \n",
       "4           groupers                   None  bluedotted coraltrout  "
      ]
     },
     "execution_count": 126,
     "metadata": {},
     "output_type": "execute_result"
    }
   ],
   "source": [
    "df_common_names.head()"
   ]
  },
  {
   "cell_type": "markdown",
   "id": "literary-checklist",
   "metadata": {},
   "source": [
    "Now create the column common name with the values of common name family column. If there are NaN values, then common name order will be used, then common name genus and if still there are NaN, then common name species will be used"
   ]
  },
  {
   "cell_type": "code",
   "execution_count": 127,
   "id": "hired-customs",
   "metadata": {},
   "outputs": [
    {
     "data": {
      "text/plain": [
       "737"
      ]
     },
     "execution_count": 127,
     "metadata": {},
     "output_type": "execute_result"
    }
   ],
   "source": [
    "df_common_names['common_name'] = df_common_names['common_name_family']\n",
    "df_common_names['common_name'].isna().sum()"
   ]
  },
  {
   "cell_type": "code",
   "execution_count": 128,
   "id": "sealed-wallace",
   "metadata": {},
   "outputs": [
    {
     "data": {
      "text/plain": [
       "256"
      ]
     },
     "execution_count": 128,
     "metadata": {},
     "output_type": "execute_result"
    }
   ],
   "source": [
    "df_common_names.loc[df_common_names['common_name'].isna(), 'common_name'] = df_common_names.loc[df_common_names['common_name'].isna()]['common_name_order']\n",
    "df_common_names['common_name'].isna().sum()"
   ]
  },
  {
   "cell_type": "code",
   "execution_count": 129,
   "id": "thrown-experience",
   "metadata": {},
   "outputs": [
    {
     "data": {
      "text/plain": [
       "244"
      ]
     },
     "execution_count": 129,
     "metadata": {},
     "output_type": "execute_result"
    }
   ],
   "source": [
    "df_common_names.loc[df_common_names['common_name'].isna(), 'common_name'] = df_common_names.loc[df_common_names['common_name'].isna()]['common_name_genus']\n",
    "df_common_names['common_name'].isna().sum()"
   ]
  },
  {
   "cell_type": "code",
   "execution_count": 130,
   "id": "third-bonus",
   "metadata": {},
   "outputs": [
    {
     "data": {
      "text/plain": [
       "94"
      ]
     },
     "execution_count": 130,
     "metadata": {},
     "output_type": "execute_result"
    }
   ],
   "source": [
    "df_common_names.loc[df_common_names['common_name'].isna(), 'common_name'] = df_common_names.loc[df_common_names['common_name'].isna()]['common_name_species']\n",
    "df_common_names['common_name'].isna().sum()"
   ]
  },
  {
   "cell_type": "markdown",
   "id": "wired-cooking",
   "metadata": {},
   "source": [
    "Drop NaN values and capitalize names"
   ]
  },
  {
   "cell_type": "code",
   "execution_count": 131,
   "id": "induced-ending",
   "metadata": {},
   "outputs": [],
   "source": [
    "df_common_names.dropna(subset=['common_name'], inplace=True)\n",
    "df_common_names['common_name'] = df_common_names['common_name'].str.capitalize()"
   ]
  },
  {
   "cell_type": "markdown",
   "id": "distributed-configuration",
   "metadata": {},
   "source": [
    "Assign common name to each observation of the original dataset"
   ]
  },
  {
   "cell_type": "code",
   "execution_count": 132,
   "id": "difficult-cleaning",
   "metadata": {},
   "outputs": [
    {
     "data": {
      "text/plain": [
       "1548"
      ]
     },
     "execution_count": 132,
     "metadata": {},
     "output_type": "execute_result"
    }
   ],
   "source": [
    "df = df.merge(df_common_names, how='left', on=['orderKey','familyKey','genusKey','speciesKey'])\n",
    "df['common_name'].isna().sum()"
   ]
  },
  {
   "cell_type": "markdown",
   "id": "olympic-carroll",
   "metadata": {},
   "source": [
    "Null values will remain in the dataset"
   ]
  },
  {
   "cell_type": "code",
   "execution_count": 133,
   "id": "operational-spotlight",
   "metadata": {
    "scrolled": true
   },
   "outputs": [
    {
     "data": {
      "text/html": [
       "<div>\n",
       "<style scoped>\n",
       "    .dataframe tbody tr th:only-of-type {\n",
       "        vertical-align: middle;\n",
       "    }\n",
       "\n",
       "    .dataframe tbody tr th {\n",
       "        vertical-align: top;\n",
       "    }\n",
       "\n",
       "    .dataframe thead th {\n",
       "        text-align: right;\n",
       "    }\n",
       "</style>\n",
       "<table border=\"1\" class=\"dataframe\">\n",
       "  <thead>\n",
       "    <tr style=\"text-align: right;\">\n",
       "      <th></th>\n",
       "      <th>eventDate</th>\n",
       "      <th>month</th>\n",
       "      <th>day</th>\n",
       "      <th>waterBody</th>\n",
       "      <th>countryCode</th>\n",
       "      <th>locality</th>\n",
       "      <th>dive_id</th>\n",
       "      <th>decimalLatitude</th>\n",
       "      <th>decimalLongitude</th>\n",
       "      <th>depth</th>\n",
       "      <th>orderKey</th>\n",
       "      <th>familyKey</th>\n",
       "      <th>genusKey</th>\n",
       "      <th>speciesKey</th>\n",
       "      <th>common_name_order</th>\n",
       "      <th>common_name_family</th>\n",
       "      <th>common_name_genus</th>\n",
       "      <th>common_name_species</th>\n",
       "      <th>common_name</th>\n",
       "    </tr>\n",
       "  </thead>\n",
       "  <tbody>\n",
       "    <tr>\n",
       "      <th>0</th>\n",
       "      <td>2019-05-29T10:06:00</td>\n",
       "      <td>5</td>\n",
       "      <td>29</td>\n",
       "      <td>South Pacific Ocean</td>\n",
       "      <td>WS</td>\n",
       "      <td>Taliga</td>\n",
       "      <td>2492</td>\n",
       "      <td>-13.9387</td>\n",
       "      <td>-171.553</td>\n",
       "      <td>13.50</td>\n",
       "      <td>793.0</td>\n",
       "      <td>9413.0</td>\n",
       "      <td>2441864.0</td>\n",
       "      <td>2442225.0</td>\n",
       "      <td>turtle</td>\n",
       "      <td>Sea Turtles</td>\n",
       "      <td>green sea turtle</td>\n",
       "      <td>Green turtle</td>\n",
       "      <td>Sea turtles</td>\n",
       "    </tr>\n",
       "    <tr>\n",
       "      <th>1</th>\n",
       "      <td>2019-05-29T12:15:00</td>\n",
       "      <td>5</td>\n",
       "      <td>29</td>\n",
       "      <td>South Pacific Ocean</td>\n",
       "      <td>WS</td>\n",
       "      <td>Cowabunga</td>\n",
       "      <td>2493</td>\n",
       "      <td>-13.9387</td>\n",
       "      <td>-171.553</td>\n",
       "      <td>10.20</td>\n",
       "      <td>793.0</td>\n",
       "      <td>9413.0</td>\n",
       "      <td>2442206.0</td>\n",
       "      <td>8841716.0</td>\n",
       "      <td>turtle</td>\n",
       "      <td>Sea Turtles</td>\n",
       "      <td>Hawksbill Sea Turtles</td>\n",
       "      <td>Hawksbill turtle</td>\n",
       "      <td>Sea turtles</td>\n",
       "    </tr>\n",
       "    <tr>\n",
       "      <th>2</th>\n",
       "      <td>2019-05-29T12:15:00</td>\n",
       "      <td>5</td>\n",
       "      <td>29</td>\n",
       "      <td>South Pacific Ocean</td>\n",
       "      <td>WS</td>\n",
       "      <td>Cowabunga</td>\n",
       "      <td>2493</td>\n",
       "      <td>-13.9387</td>\n",
       "      <td>-171.553</td>\n",
       "      <td>10.20</td>\n",
       "      <td>793.0</td>\n",
       "      <td>9413.0</td>\n",
       "      <td>2441864.0</td>\n",
       "      <td>2442225.0</td>\n",
       "      <td>turtle</td>\n",
       "      <td>Sea Turtles</td>\n",
       "      <td>green sea turtle</td>\n",
       "      <td>Green turtle</td>\n",
       "      <td>Sea turtles</td>\n",
       "    </tr>\n",
       "    <tr>\n",
       "      <th>3</th>\n",
       "      <td>2019-05-30T12:04:00</td>\n",
       "      <td>5</td>\n",
       "      <td>30</td>\n",
       "      <td>South Pacific Ocean</td>\n",
       "      <td>WS</td>\n",
       "      <td>Cowabunga</td>\n",
       "      <td>2495</td>\n",
       "      <td>-13.9387</td>\n",
       "      <td>-171.553</td>\n",
       "      <td>9.75</td>\n",
       "      <td>793.0</td>\n",
       "      <td>9413.0</td>\n",
       "      <td>2441864.0</td>\n",
       "      <td>2442225.0</td>\n",
       "      <td>turtle</td>\n",
       "      <td>Sea Turtles</td>\n",
       "      <td>green sea turtle</td>\n",
       "      <td>Green turtle</td>\n",
       "      <td>Sea turtles</td>\n",
       "    </tr>\n",
       "    <tr>\n",
       "      <th>4</th>\n",
       "      <td>2019-05-30T10:02:00</td>\n",
       "      <td>5</td>\n",
       "      <td>30</td>\n",
       "      <td>South Pacific Ocean</td>\n",
       "      <td>WS</td>\n",
       "      <td>Cowabunga</td>\n",
       "      <td>2494</td>\n",
       "      <td>-13.9387</td>\n",
       "      <td>-171.553</td>\n",
       "      <td>10.50</td>\n",
       "      <td>793.0</td>\n",
       "      <td>9413.0</td>\n",
       "      <td>2442206.0</td>\n",
       "      <td>8841716.0</td>\n",
       "      <td>turtle</td>\n",
       "      <td>Sea Turtles</td>\n",
       "      <td>Hawksbill Sea Turtles</td>\n",
       "      <td>Hawksbill turtle</td>\n",
       "      <td>Sea turtles</td>\n",
       "    </tr>\n",
       "  </tbody>\n",
       "</table>\n",
       "</div>"
      ],
      "text/plain": [
       "             eventDate  month  day            waterBody countryCode  \\\n",
       "0  2019-05-29T10:06:00      5   29  South Pacific Ocean          WS   \n",
       "1  2019-05-29T12:15:00      5   29  South Pacific Ocean          WS   \n",
       "2  2019-05-29T12:15:00      5   29  South Pacific Ocean          WS   \n",
       "3  2019-05-30T12:04:00      5   30  South Pacific Ocean          WS   \n",
       "4  2019-05-30T10:02:00      5   30  South Pacific Ocean          WS   \n",
       "\n",
       "    locality  dive_id  decimalLatitude  decimalLongitude  depth  orderKey  \\\n",
       "0     Taliga     2492         -13.9387          -171.553  13.50     793.0   \n",
       "1  Cowabunga     2493         -13.9387          -171.553  10.20     793.0   \n",
       "2  Cowabunga     2493         -13.9387          -171.553  10.20     793.0   \n",
       "3  Cowabunga     2495         -13.9387          -171.553   9.75     793.0   \n",
       "4  Cowabunga     2494         -13.9387          -171.553  10.50     793.0   \n",
       "\n",
       "   familyKey   genusKey  speciesKey common_name_order common_name_family  \\\n",
       "0     9413.0  2441864.0   2442225.0            turtle        Sea Turtles   \n",
       "1     9413.0  2442206.0   8841716.0            turtle        Sea Turtles   \n",
       "2     9413.0  2441864.0   2442225.0            turtle        Sea Turtles   \n",
       "3     9413.0  2441864.0   2442225.0            turtle        Sea Turtles   \n",
       "4     9413.0  2442206.0   8841716.0            turtle        Sea Turtles   \n",
       "\n",
       "       common_name_genus common_name_species  common_name  \n",
       "0       green sea turtle        Green turtle  Sea turtles  \n",
       "1  Hawksbill Sea Turtles    Hawksbill turtle  Sea turtles  \n",
       "2       green sea turtle        Green turtle  Sea turtles  \n",
       "3       green sea turtle        Green turtle  Sea turtles  \n",
       "4  Hawksbill Sea Turtles    Hawksbill turtle  Sea turtles  "
      ]
     },
     "execution_count": 133,
     "metadata": {},
     "output_type": "execute_result"
    }
   ],
   "source": [
    "df.head()"
   ]
  },
  {
   "cell_type": "markdown",
   "id": "duplicate-moral",
   "metadata": {},
   "source": [
    "# Hour extraction\n",
    "In this step I extract the hour from the eventDate column"
   ]
  },
  {
   "cell_type": "code",
   "execution_count": 134,
   "id": "difficult-parcel",
   "metadata": {},
   "outputs": [
    {
     "data": {
      "text/html": [
       "<div>\n",
       "<style scoped>\n",
       "    .dataframe tbody tr th:only-of-type {\n",
       "        vertical-align: middle;\n",
       "    }\n",
       "\n",
       "    .dataframe tbody tr th {\n",
       "        vertical-align: top;\n",
       "    }\n",
       "\n",
       "    .dataframe thead th {\n",
       "        text-align: right;\n",
       "    }\n",
       "</style>\n",
       "<table border=\"1\" class=\"dataframe\">\n",
       "  <thead>\n",
       "    <tr style=\"text-align: right;\">\n",
       "      <th></th>\n",
       "      <th>eventDate</th>\n",
       "      <th>month</th>\n",
       "      <th>day</th>\n",
       "      <th>waterBody</th>\n",
       "      <th>countryCode</th>\n",
       "      <th>locality</th>\n",
       "      <th>dive_id</th>\n",
       "      <th>decimalLatitude</th>\n",
       "      <th>decimalLongitude</th>\n",
       "      <th>depth</th>\n",
       "      <th>orderKey</th>\n",
       "      <th>familyKey</th>\n",
       "      <th>genusKey</th>\n",
       "      <th>speciesKey</th>\n",
       "      <th>common_name_order</th>\n",
       "      <th>common_name_family</th>\n",
       "      <th>common_name_genus</th>\n",
       "      <th>common_name_species</th>\n",
       "      <th>common_name</th>\n",
       "      <th>hour</th>\n",
       "    </tr>\n",
       "  </thead>\n",
       "  <tbody>\n",
       "    <tr>\n",
       "      <th>0</th>\n",
       "      <td>2019-05-29T10:06:00</td>\n",
       "      <td>5</td>\n",
       "      <td>29</td>\n",
       "      <td>South Pacific Ocean</td>\n",
       "      <td>WS</td>\n",
       "      <td>Taliga</td>\n",
       "      <td>2492</td>\n",
       "      <td>-13.9387</td>\n",
       "      <td>-171.553</td>\n",
       "      <td>13.50</td>\n",
       "      <td>793.0</td>\n",
       "      <td>9413.0</td>\n",
       "      <td>2441864.0</td>\n",
       "      <td>2442225.0</td>\n",
       "      <td>turtle</td>\n",
       "      <td>Sea Turtles</td>\n",
       "      <td>green sea turtle</td>\n",
       "      <td>Green turtle</td>\n",
       "      <td>Sea turtles</td>\n",
       "      <td>10</td>\n",
       "    </tr>\n",
       "    <tr>\n",
       "      <th>1</th>\n",
       "      <td>2019-05-29T12:15:00</td>\n",
       "      <td>5</td>\n",
       "      <td>29</td>\n",
       "      <td>South Pacific Ocean</td>\n",
       "      <td>WS</td>\n",
       "      <td>Cowabunga</td>\n",
       "      <td>2493</td>\n",
       "      <td>-13.9387</td>\n",
       "      <td>-171.553</td>\n",
       "      <td>10.20</td>\n",
       "      <td>793.0</td>\n",
       "      <td>9413.0</td>\n",
       "      <td>2442206.0</td>\n",
       "      <td>8841716.0</td>\n",
       "      <td>turtle</td>\n",
       "      <td>Sea Turtles</td>\n",
       "      <td>Hawksbill Sea Turtles</td>\n",
       "      <td>Hawksbill turtle</td>\n",
       "      <td>Sea turtles</td>\n",
       "      <td>12</td>\n",
       "    </tr>\n",
       "    <tr>\n",
       "      <th>2</th>\n",
       "      <td>2019-05-29T12:15:00</td>\n",
       "      <td>5</td>\n",
       "      <td>29</td>\n",
       "      <td>South Pacific Ocean</td>\n",
       "      <td>WS</td>\n",
       "      <td>Cowabunga</td>\n",
       "      <td>2493</td>\n",
       "      <td>-13.9387</td>\n",
       "      <td>-171.553</td>\n",
       "      <td>10.20</td>\n",
       "      <td>793.0</td>\n",
       "      <td>9413.0</td>\n",
       "      <td>2441864.0</td>\n",
       "      <td>2442225.0</td>\n",
       "      <td>turtle</td>\n",
       "      <td>Sea Turtles</td>\n",
       "      <td>green sea turtle</td>\n",
       "      <td>Green turtle</td>\n",
       "      <td>Sea turtles</td>\n",
       "      <td>12</td>\n",
       "    </tr>\n",
       "    <tr>\n",
       "      <th>3</th>\n",
       "      <td>2019-05-30T12:04:00</td>\n",
       "      <td>5</td>\n",
       "      <td>30</td>\n",
       "      <td>South Pacific Ocean</td>\n",
       "      <td>WS</td>\n",
       "      <td>Cowabunga</td>\n",
       "      <td>2495</td>\n",
       "      <td>-13.9387</td>\n",
       "      <td>-171.553</td>\n",
       "      <td>9.75</td>\n",
       "      <td>793.0</td>\n",
       "      <td>9413.0</td>\n",
       "      <td>2441864.0</td>\n",
       "      <td>2442225.0</td>\n",
       "      <td>turtle</td>\n",
       "      <td>Sea Turtles</td>\n",
       "      <td>green sea turtle</td>\n",
       "      <td>Green turtle</td>\n",
       "      <td>Sea turtles</td>\n",
       "      <td>12</td>\n",
       "    </tr>\n",
       "    <tr>\n",
       "      <th>4</th>\n",
       "      <td>2019-05-30T10:02:00</td>\n",
       "      <td>5</td>\n",
       "      <td>30</td>\n",
       "      <td>South Pacific Ocean</td>\n",
       "      <td>WS</td>\n",
       "      <td>Cowabunga</td>\n",
       "      <td>2494</td>\n",
       "      <td>-13.9387</td>\n",
       "      <td>-171.553</td>\n",
       "      <td>10.50</td>\n",
       "      <td>793.0</td>\n",
       "      <td>9413.0</td>\n",
       "      <td>2442206.0</td>\n",
       "      <td>8841716.0</td>\n",
       "      <td>turtle</td>\n",
       "      <td>Sea Turtles</td>\n",
       "      <td>Hawksbill Sea Turtles</td>\n",
       "      <td>Hawksbill turtle</td>\n",
       "      <td>Sea turtles</td>\n",
       "      <td>10</td>\n",
       "    </tr>\n",
       "  </tbody>\n",
       "</table>\n",
       "</div>"
      ],
      "text/plain": [
       "             eventDate  month  day            waterBody countryCode  \\\n",
       "0  2019-05-29T10:06:00      5   29  South Pacific Ocean          WS   \n",
       "1  2019-05-29T12:15:00      5   29  South Pacific Ocean          WS   \n",
       "2  2019-05-29T12:15:00      5   29  South Pacific Ocean          WS   \n",
       "3  2019-05-30T12:04:00      5   30  South Pacific Ocean          WS   \n",
       "4  2019-05-30T10:02:00      5   30  South Pacific Ocean          WS   \n",
       "\n",
       "    locality  dive_id  decimalLatitude  decimalLongitude  depth  orderKey  \\\n",
       "0     Taliga     2492         -13.9387          -171.553  13.50     793.0   \n",
       "1  Cowabunga     2493         -13.9387          -171.553  10.20     793.0   \n",
       "2  Cowabunga     2493         -13.9387          -171.553  10.20     793.0   \n",
       "3  Cowabunga     2495         -13.9387          -171.553   9.75     793.0   \n",
       "4  Cowabunga     2494         -13.9387          -171.553  10.50     793.0   \n",
       "\n",
       "   familyKey   genusKey  speciesKey common_name_order common_name_family  \\\n",
       "0     9413.0  2441864.0   2442225.0            turtle        Sea Turtles   \n",
       "1     9413.0  2442206.0   8841716.0            turtle        Sea Turtles   \n",
       "2     9413.0  2441864.0   2442225.0            turtle        Sea Turtles   \n",
       "3     9413.0  2441864.0   2442225.0            turtle        Sea Turtles   \n",
       "4     9413.0  2442206.0   8841716.0            turtle        Sea Turtles   \n",
       "\n",
       "       common_name_genus common_name_species  common_name  hour  \n",
       "0       green sea turtle        Green turtle  Sea turtles    10  \n",
       "1  Hawksbill Sea Turtles    Hawksbill turtle  Sea turtles    12  \n",
       "2       green sea turtle        Green turtle  Sea turtles    12  \n",
       "3       green sea turtle        Green turtle  Sea turtles    12  \n",
       "4  Hawksbill Sea Turtles    Hawksbill turtle  Sea turtles    10  "
      ]
     },
     "execution_count": 134,
     "metadata": {},
     "output_type": "execute_result"
    }
   ],
   "source": [
    "df['hour'] = df['eventDate'].str.split('T')[:].str[1].str.split(':').str[0].astype('int')\n",
    "df.head()"
   ]
  },
  {
   "cell_type": "markdown",
   "id": "executive-recycling",
   "metadata": {},
   "source": [
    "Delete the columns that contain taxa keys"
   ]
  },
  {
   "cell_type": "code",
   "execution_count": 135,
   "id": "pacific-plate",
   "metadata": {
    "scrolled": true
   },
   "outputs": [],
   "source": [
    "df.drop(['orderKey', 'familyKey', 'genusKey', 'speciesKey'], axis=1, inplace=True)"
   ]
  },
  {
   "cell_type": "markdown",
   "id": "refined-lightning",
   "metadata": {},
   "source": [
    "# Target selection\n",
    "Now it is time to select the target. It will be the top five seen animals"
   ]
  },
  {
   "cell_type": "code",
   "execution_count": 136,
   "id": "bright-review",
   "metadata": {},
   "outputs": [
    {
     "data": {
      "text/plain": [
       "0      Moray eels\n",
       "1      Firefishes\n",
       "2    Damselfishes\n",
       "3     Sea turtles\n",
       "4        Groupers\n",
       "Name: common_name, dtype: object"
      ]
     },
     "execution_count": 136,
     "metadata": {},
     "output_type": "execute_result"
    }
   ],
   "source": [
    "df_agg = df.groupby('common_name').count().sort_values(by='eventDate', ascending=False)[['eventDate']]\n",
    "targets = df_agg[:5].reset_index()['common_name']\n",
    "targets"
   ]
  },
  {
   "cell_type": "markdown",
   "id": "acute-subsection",
   "metadata": {},
   "source": [
    "I'll create a function that checks if common the column contains the common name, then use this function to check if common name is in the top five seen animals and create a binary column that indicates if the animal has been seen"
   ]
  },
  {
   "cell_type": "code",
   "execution_count": 137,
   "id": "great-client",
   "metadata": {},
   "outputs": [],
   "source": [
    "def assign_targets(column, common_name):\n",
    "    return int(column == common_name)"
   ]
  },
  {
   "cell_type": "code",
   "execution_count": 138,
   "id": "legislative-spouse",
   "metadata": {
    "scrolled": true
   },
   "outputs": [
    {
     "data": {
      "text/html": [
       "<div>\n",
       "<style scoped>\n",
       "    .dataframe tbody tr th:only-of-type {\n",
       "        vertical-align: middle;\n",
       "    }\n",
       "\n",
       "    .dataframe tbody tr th {\n",
       "        vertical-align: top;\n",
       "    }\n",
       "\n",
       "    .dataframe thead th {\n",
       "        text-align: right;\n",
       "    }\n",
       "</style>\n",
       "<table border=\"1\" class=\"dataframe\">\n",
       "  <thead>\n",
       "    <tr style=\"text-align: right;\">\n",
       "      <th></th>\n",
       "      <th>eventDate</th>\n",
       "      <th>month</th>\n",
       "      <th>day</th>\n",
       "      <th>waterBody</th>\n",
       "      <th>countryCode</th>\n",
       "      <th>locality</th>\n",
       "      <th>dive_id</th>\n",
       "      <th>decimalLatitude</th>\n",
       "      <th>decimalLongitude</th>\n",
       "      <th>depth</th>\n",
       "      <th>common_name_order</th>\n",
       "      <th>common_name_family</th>\n",
       "      <th>common_name_genus</th>\n",
       "      <th>common_name_species</th>\n",
       "      <th>common_name</th>\n",
       "      <th>hour</th>\n",
       "      <th>Moray eels</th>\n",
       "      <th>Firefishes</th>\n",
       "      <th>Damselfishes</th>\n",
       "      <th>Sea turtles</th>\n",
       "      <th>Groupers</th>\n",
       "    </tr>\n",
       "  </thead>\n",
       "  <tbody>\n",
       "    <tr>\n",
       "      <th>0</th>\n",
       "      <td>2019-05-29T10:06:00</td>\n",
       "      <td>5</td>\n",
       "      <td>29</td>\n",
       "      <td>South Pacific Ocean</td>\n",
       "      <td>WS</td>\n",
       "      <td>Taliga</td>\n",
       "      <td>2492</td>\n",
       "      <td>-13.9387</td>\n",
       "      <td>-171.553</td>\n",
       "      <td>13.50</td>\n",
       "      <td>turtle</td>\n",
       "      <td>Sea Turtles</td>\n",
       "      <td>green sea turtle</td>\n",
       "      <td>Green turtle</td>\n",
       "      <td>Sea turtles</td>\n",
       "      <td>10</td>\n",
       "      <td>0</td>\n",
       "      <td>0</td>\n",
       "      <td>0</td>\n",
       "      <td>1</td>\n",
       "      <td>0</td>\n",
       "    </tr>\n",
       "    <tr>\n",
       "      <th>1</th>\n",
       "      <td>2019-05-29T12:15:00</td>\n",
       "      <td>5</td>\n",
       "      <td>29</td>\n",
       "      <td>South Pacific Ocean</td>\n",
       "      <td>WS</td>\n",
       "      <td>Cowabunga</td>\n",
       "      <td>2493</td>\n",
       "      <td>-13.9387</td>\n",
       "      <td>-171.553</td>\n",
       "      <td>10.20</td>\n",
       "      <td>turtle</td>\n",
       "      <td>Sea Turtles</td>\n",
       "      <td>Hawksbill Sea Turtles</td>\n",
       "      <td>Hawksbill turtle</td>\n",
       "      <td>Sea turtles</td>\n",
       "      <td>12</td>\n",
       "      <td>0</td>\n",
       "      <td>0</td>\n",
       "      <td>0</td>\n",
       "      <td>1</td>\n",
       "      <td>0</td>\n",
       "    </tr>\n",
       "    <tr>\n",
       "      <th>2</th>\n",
       "      <td>2019-05-29T12:15:00</td>\n",
       "      <td>5</td>\n",
       "      <td>29</td>\n",
       "      <td>South Pacific Ocean</td>\n",
       "      <td>WS</td>\n",
       "      <td>Cowabunga</td>\n",
       "      <td>2493</td>\n",
       "      <td>-13.9387</td>\n",
       "      <td>-171.553</td>\n",
       "      <td>10.20</td>\n",
       "      <td>turtle</td>\n",
       "      <td>Sea Turtles</td>\n",
       "      <td>green sea turtle</td>\n",
       "      <td>Green turtle</td>\n",
       "      <td>Sea turtles</td>\n",
       "      <td>12</td>\n",
       "      <td>0</td>\n",
       "      <td>0</td>\n",
       "      <td>0</td>\n",
       "      <td>1</td>\n",
       "      <td>0</td>\n",
       "    </tr>\n",
       "    <tr>\n",
       "      <th>3</th>\n",
       "      <td>2019-05-30T12:04:00</td>\n",
       "      <td>5</td>\n",
       "      <td>30</td>\n",
       "      <td>South Pacific Ocean</td>\n",
       "      <td>WS</td>\n",
       "      <td>Cowabunga</td>\n",
       "      <td>2495</td>\n",
       "      <td>-13.9387</td>\n",
       "      <td>-171.553</td>\n",
       "      <td>9.75</td>\n",
       "      <td>turtle</td>\n",
       "      <td>Sea Turtles</td>\n",
       "      <td>green sea turtle</td>\n",
       "      <td>Green turtle</td>\n",
       "      <td>Sea turtles</td>\n",
       "      <td>12</td>\n",
       "      <td>0</td>\n",
       "      <td>0</td>\n",
       "      <td>0</td>\n",
       "      <td>1</td>\n",
       "      <td>0</td>\n",
       "    </tr>\n",
       "    <tr>\n",
       "      <th>4</th>\n",
       "      <td>2019-05-30T10:02:00</td>\n",
       "      <td>5</td>\n",
       "      <td>30</td>\n",
       "      <td>South Pacific Ocean</td>\n",
       "      <td>WS</td>\n",
       "      <td>Cowabunga</td>\n",
       "      <td>2494</td>\n",
       "      <td>-13.9387</td>\n",
       "      <td>-171.553</td>\n",
       "      <td>10.50</td>\n",
       "      <td>turtle</td>\n",
       "      <td>Sea Turtles</td>\n",
       "      <td>Hawksbill Sea Turtles</td>\n",
       "      <td>Hawksbill turtle</td>\n",
       "      <td>Sea turtles</td>\n",
       "      <td>10</td>\n",
       "      <td>0</td>\n",
       "      <td>0</td>\n",
       "      <td>0</td>\n",
       "      <td>1</td>\n",
       "      <td>0</td>\n",
       "    </tr>\n",
       "  </tbody>\n",
       "</table>\n",
       "</div>"
      ],
      "text/plain": [
       "             eventDate  month  day            waterBody countryCode  \\\n",
       "0  2019-05-29T10:06:00      5   29  South Pacific Ocean          WS   \n",
       "1  2019-05-29T12:15:00      5   29  South Pacific Ocean          WS   \n",
       "2  2019-05-29T12:15:00      5   29  South Pacific Ocean          WS   \n",
       "3  2019-05-30T12:04:00      5   30  South Pacific Ocean          WS   \n",
       "4  2019-05-30T10:02:00      5   30  South Pacific Ocean          WS   \n",
       "\n",
       "    locality  dive_id  decimalLatitude  decimalLongitude  depth  \\\n",
       "0     Taliga     2492         -13.9387          -171.553  13.50   \n",
       "1  Cowabunga     2493         -13.9387          -171.553  10.20   \n",
       "2  Cowabunga     2493         -13.9387          -171.553  10.20   \n",
       "3  Cowabunga     2495         -13.9387          -171.553   9.75   \n",
       "4  Cowabunga     2494         -13.9387          -171.553  10.50   \n",
       "\n",
       "  common_name_order common_name_family      common_name_genus  \\\n",
       "0            turtle        Sea Turtles       green sea turtle   \n",
       "1            turtle        Sea Turtles  Hawksbill Sea Turtles   \n",
       "2            turtle        Sea Turtles       green sea turtle   \n",
       "3            turtle        Sea Turtles       green sea turtle   \n",
       "4            turtle        Sea Turtles  Hawksbill Sea Turtles   \n",
       "\n",
       "  common_name_species  common_name  hour  Moray eels  Firefishes  \\\n",
       "0        Green turtle  Sea turtles    10           0           0   \n",
       "1    Hawksbill turtle  Sea turtles    12           0           0   \n",
       "2        Green turtle  Sea turtles    12           0           0   \n",
       "3        Green turtle  Sea turtles    12           0           0   \n",
       "4    Hawksbill turtle  Sea turtles    10           0           0   \n",
       "\n",
       "   Damselfishes  Sea turtles  Groupers  \n",
       "0             0            1         0  \n",
       "1             0            1         0  \n",
       "2             0            1         0  \n",
       "3             0            1         0  \n",
       "4             0            1         0  "
      ]
     },
     "execution_count": 138,
     "metadata": {},
     "output_type": "execute_result"
    }
   ],
   "source": [
    "for target in targets:\n",
    "    df['{}'.format(target)] = df.apply(lambda row: assign_targets(row['common_name'], target), axis=1)\n",
    "\n",
    "df.head()"
   ]
  },
  {
   "cell_type": "markdown",
   "id": "accepting-burning",
   "metadata": {},
   "source": [
    "# Aggregate rows by inmersion\n",
    "The objective of this work is to predict animals seen by inmersion, but the dataset contains all observations seen by inmersion. Next step is to aggregate rows by inmersion, and, set 1 if the animal has been seen at least one time"
   ]
  },
  {
   "cell_type": "code",
   "execution_count": 139,
   "id": "technical-scenario",
   "metadata": {},
   "outputs": [
    {
     "name": "stderr",
     "output_type": "stream",
     "text": [
      "/home/davidgp/anaconda3/envs/malif2/lib/python3.8/site-packages/pandas/core/frame.py:4305: SettingWithCopyWarning: \n",
      "A value is trying to be set on a copy of a slice from a DataFrame\n",
      "\n",
      "See the caveats in the documentation: https://pandas.pydata.org/pandas-docs/stable/user_guide/indexing.html#returning-a-view-versus-a-copy\n",
      "  return super().drop(\n"
     ]
    },
    {
     "data": {
      "text/plain": [
       "(11808, 21)"
      ]
     },
     "execution_count": 139,
     "metadata": {},
     "output_type": "execute_result"
    }
   ],
   "source": [
    "df_count_target = df.groupby('dive_id')[targets].sum().reset_index()\n",
    "\n",
    "for target in targets:\n",
    "    df_count_target.loc[df_count_target[target] >= 1, target] = 1\n",
    "\n",
    "df_unique = df.drop_duplicates(subset='dive_id')\n",
    "df_unique.drop(targets, axis=1, inplace=True)\n",
    "\n",
    "df_aggregated = df_unique.merge(df_count_target, how='left', on='dive_id')\n",
    "\n",
    "df_aggregated.shape"
   ]
  },
  {
   "cell_type": "code",
   "execution_count": 140,
   "id": "parallel-growing",
   "metadata": {},
   "outputs": [
    {
     "data": {
      "text/html": [
       "<div>\n",
       "<style scoped>\n",
       "    .dataframe tbody tr th:only-of-type {\n",
       "        vertical-align: middle;\n",
       "    }\n",
       "\n",
       "    .dataframe tbody tr th {\n",
       "        vertical-align: top;\n",
       "    }\n",
       "\n",
       "    .dataframe thead th {\n",
       "        text-align: right;\n",
       "    }\n",
       "</style>\n",
       "<table border=\"1\" class=\"dataframe\">\n",
       "  <thead>\n",
       "    <tr style=\"text-align: right;\">\n",
       "      <th></th>\n",
       "      <th>eventDate</th>\n",
       "      <th>month</th>\n",
       "      <th>day</th>\n",
       "      <th>waterBody</th>\n",
       "      <th>countryCode</th>\n",
       "      <th>locality</th>\n",
       "      <th>dive_id</th>\n",
       "      <th>decimalLatitude</th>\n",
       "      <th>decimalLongitude</th>\n",
       "      <th>depth</th>\n",
       "      <th>common_name_order</th>\n",
       "      <th>common_name_family</th>\n",
       "      <th>common_name_genus</th>\n",
       "      <th>common_name_species</th>\n",
       "      <th>common_name</th>\n",
       "      <th>hour</th>\n",
       "      <th>Moray eels</th>\n",
       "      <th>Firefishes</th>\n",
       "      <th>Damselfishes</th>\n",
       "      <th>Sea turtles</th>\n",
       "      <th>Groupers</th>\n",
       "    </tr>\n",
       "  </thead>\n",
       "  <tbody>\n",
       "    <tr>\n",
       "      <th>0</th>\n",
       "      <td>2019-05-29T10:06:00</td>\n",
       "      <td>5</td>\n",
       "      <td>29</td>\n",
       "      <td>South Pacific Ocean</td>\n",
       "      <td>WS</td>\n",
       "      <td>Taliga</td>\n",
       "      <td>2492</td>\n",
       "      <td>-13.9387</td>\n",
       "      <td>-171.553</td>\n",
       "      <td>13.50</td>\n",
       "      <td>turtle</td>\n",
       "      <td>Sea Turtles</td>\n",
       "      <td>green sea turtle</td>\n",
       "      <td>Green turtle</td>\n",
       "      <td>Sea turtles</td>\n",
       "      <td>10</td>\n",
       "      <td>0</td>\n",
       "      <td>0</td>\n",
       "      <td>0</td>\n",
       "      <td>1</td>\n",
       "      <td>0</td>\n",
       "    </tr>\n",
       "    <tr>\n",
       "      <th>1</th>\n",
       "      <td>2019-05-29T12:15:00</td>\n",
       "      <td>5</td>\n",
       "      <td>29</td>\n",
       "      <td>South Pacific Ocean</td>\n",
       "      <td>WS</td>\n",
       "      <td>Cowabunga</td>\n",
       "      <td>2493</td>\n",
       "      <td>-13.9387</td>\n",
       "      <td>-171.553</td>\n",
       "      <td>10.20</td>\n",
       "      <td>turtle</td>\n",
       "      <td>Sea Turtles</td>\n",
       "      <td>Hawksbill Sea Turtles</td>\n",
       "      <td>Hawksbill turtle</td>\n",
       "      <td>Sea turtles</td>\n",
       "      <td>12</td>\n",
       "      <td>0</td>\n",
       "      <td>0</td>\n",
       "      <td>0</td>\n",
       "      <td>1</td>\n",
       "      <td>0</td>\n",
       "    </tr>\n",
       "    <tr>\n",
       "      <th>2</th>\n",
       "      <td>2019-05-30T12:04:00</td>\n",
       "      <td>5</td>\n",
       "      <td>30</td>\n",
       "      <td>South Pacific Ocean</td>\n",
       "      <td>WS</td>\n",
       "      <td>Cowabunga</td>\n",
       "      <td>2495</td>\n",
       "      <td>-13.9387</td>\n",
       "      <td>-171.553</td>\n",
       "      <td>9.75</td>\n",
       "      <td>turtle</td>\n",
       "      <td>Sea Turtles</td>\n",
       "      <td>green sea turtle</td>\n",
       "      <td>Green turtle</td>\n",
       "      <td>Sea turtles</td>\n",
       "      <td>12</td>\n",
       "      <td>0</td>\n",
       "      <td>0</td>\n",
       "      <td>0</td>\n",
       "      <td>1</td>\n",
       "      <td>0</td>\n",
       "    </tr>\n",
       "    <tr>\n",
       "      <th>3</th>\n",
       "      <td>2019-05-30T10:02:00</td>\n",
       "      <td>5</td>\n",
       "      <td>30</td>\n",
       "      <td>South Pacific Ocean</td>\n",
       "      <td>WS</td>\n",
       "      <td>Cowabunga</td>\n",
       "      <td>2494</td>\n",
       "      <td>-13.9387</td>\n",
       "      <td>-171.553</td>\n",
       "      <td>10.50</td>\n",
       "      <td>turtle</td>\n",
       "      <td>Sea Turtles</td>\n",
       "      <td>Hawksbill Sea Turtles</td>\n",
       "      <td>Hawksbill turtle</td>\n",
       "      <td>Sea turtles</td>\n",
       "      <td>10</td>\n",
       "      <td>0</td>\n",
       "      <td>0</td>\n",
       "      <td>0</td>\n",
       "      <td>1</td>\n",
       "      <td>0</td>\n",
       "    </tr>\n",
       "    <tr>\n",
       "      <th>4</th>\n",
       "      <td>2015-07-22T18:56:00</td>\n",
       "      <td>7</td>\n",
       "      <td>22</td>\n",
       "      <td>Hidden Lake</td>\n",
       "      <td>EG</td>\n",
       "      <td>Sunrise Grand Select Montemare Resort House Reef</td>\n",
       "      <td>7393</td>\n",
       "      <td>53.8635</td>\n",
       "      <td>-166.049</td>\n",
       "      <td>10.00</td>\n",
       "      <td>perch-like fish</td>\n",
       "      <td>parrotfishes</td>\n",
       "      <td>parrotfishes</td>\n",
       "      <td>Palenose parrotfish</td>\n",
       "      <td>Parrotfishes</td>\n",
       "      <td>18</td>\n",
       "      <td>0</td>\n",
       "      <td>1</td>\n",
       "      <td>0</td>\n",
       "      <td>0</td>\n",
       "      <td>0</td>\n",
       "    </tr>\n",
       "  </tbody>\n",
       "</table>\n",
       "</div>"
      ],
      "text/plain": [
       "             eventDate  month  day            waterBody countryCode  \\\n",
       "0  2019-05-29T10:06:00      5   29  South Pacific Ocean          WS   \n",
       "1  2019-05-29T12:15:00      5   29  South Pacific Ocean          WS   \n",
       "2  2019-05-30T12:04:00      5   30  South Pacific Ocean          WS   \n",
       "3  2019-05-30T10:02:00      5   30  South Pacific Ocean          WS   \n",
       "4  2015-07-22T18:56:00      7   22          Hidden Lake          EG   \n",
       "\n",
       "                                           locality  dive_id  decimalLatitude  \\\n",
       "0                                            Taliga     2492         -13.9387   \n",
       "1                                         Cowabunga     2493         -13.9387   \n",
       "2                                         Cowabunga     2495         -13.9387   \n",
       "3                                         Cowabunga     2494         -13.9387   \n",
       "4  Sunrise Grand Select Montemare Resort House Reef     7393          53.8635   \n",
       "\n",
       "   decimalLongitude  depth common_name_order common_name_family  \\\n",
       "0          -171.553  13.50            turtle        Sea Turtles   \n",
       "1          -171.553  10.20            turtle        Sea Turtles   \n",
       "2          -171.553   9.75            turtle        Sea Turtles   \n",
       "3          -171.553  10.50            turtle        Sea Turtles   \n",
       "4          -166.049  10.00   perch-like fish       parrotfishes   \n",
       "\n",
       "       common_name_genus  common_name_species   common_name  hour  Moray eels  \\\n",
       "0       green sea turtle         Green turtle   Sea turtles    10           0   \n",
       "1  Hawksbill Sea Turtles     Hawksbill turtle   Sea turtles    12           0   \n",
       "2       green sea turtle         Green turtle   Sea turtles    12           0   \n",
       "3  Hawksbill Sea Turtles     Hawksbill turtle   Sea turtles    10           0   \n",
       "4           parrotfishes  Palenose parrotfish  Parrotfishes    18           0   \n",
       "\n",
       "   Firefishes  Damselfishes  Sea turtles  Groupers  \n",
       "0           0             0            1         0  \n",
       "1           0             0            1         0  \n",
       "2           0             0            1         0  \n",
       "3           0             0            1         0  \n",
       "4           1             0            0         0  "
      ]
     },
     "execution_count": 140,
     "metadata": {},
     "output_type": "execute_result"
    }
   ],
   "source": [
    "df_aggregated.head()"
   ]
  },
  {
   "cell_type": "markdown",
   "id": "three-south",
   "metadata": {},
   "source": [
    "# Insights"
   ]
  },
  {
   "cell_type": "markdown",
   "id": "improving-software",
   "metadata": {},
   "source": [
    "## Inmersions"
   ]
  },
  {
   "cell_type": "markdown",
   "id": "tracked-investigation",
   "metadata": {},
   "source": [
    "### Inmersions per month"
   ]
  },
  {
   "cell_type": "code",
   "execution_count": 141,
   "id": "religious-collectible",
   "metadata": {
    "scrolled": false
   },
   "outputs": [
    {
     "data": {
      "image/png": "[encoded data removed]",
      "text/plain": [
       "<Figure size 720x576 with 1 Axes>"
      ]
     },
     "metadata": {},
     "output_type": "display_data"
    }
   ],
   "source": [
    "plt.figure(figsize=(10,8))\n",
    "data = df_aggregated.groupby('month').count()['dive_id']\n",
    "ax = sns.barplot(x=data.index, y=data)\n",
    "ax.set(xlabel='Month', ylabel='Nº of inmersions')\n",
    "plt.show()"
   ]
  },
  {
   "cell_type": "markdown",
   "id": "antique-software",
   "metadata": {},
   "source": [
    "Most of the inmersions are between june and september, usually summer vacations in the North Hemisphere"
   ]
  },
  {
   "cell_type": "markdown",
   "id": "blessed-disney",
   "metadata": {},
   "source": [
    "### Inmersions per day of month"
   ]
  },
  {
   "cell_type": "code",
   "execution_count": 142,
   "id": "received-horror",
   "metadata": {
    "scrolled": false
   },
   "outputs": [
    {
     "data": {
      "image/png": "[encoded data removed]",
      "text/plain": [
       "<Figure size 720x576 with 1 Axes>"
      ]
     },
     "metadata": {},
     "output_type": "display_data"
    }
   ],
   "source": [
    "plt.figure(figsize=(10,8))\n",
    "data = df_aggregated.groupby('day').count()['dive_id']\n",
    "ax = sns.barplot(x=data.index, y=data)\n",
    "ax.set(xlabel='Day', ylabel='Nº of inmersions')\n",
    "plt.show()"
   ]
  },
  {
   "cell_type": "markdown",
   "id": "protective-shuttle",
   "metadata": {},
   "source": [
    "Inmersions per day have an uniform distribution"
   ]
  },
  {
   "cell_type": "markdown",
   "id": "aggressive-demographic",
   "metadata": {},
   "source": [
    "### Inmersions per hour of day"
   ]
  },
  {
   "cell_type": "code",
   "execution_count": 143,
   "id": "unusual-membership",
   "metadata": {
    "scrolled": false
   },
   "outputs": [
    {
     "data": {
      "image/png": "[encoded data removed]",
      "text/plain": [
       "<Figure size 720x576 with 1 Axes>"
      ]
     },
     "metadata": {},
     "output_type": "display_data"
    }
   ],
   "source": [
    "plt.figure(figsize=(10,8))\n",
    "data = df_aggregated.groupby('hour').count()['dive_id']\n",
    "ax = sns.barplot(x=data.index, y=data)\n",
    "ax.set(xlabel='Hour', ylabel='Nº of inmersions')\n",
    "plt.show()"
   ]
  },
  {
   "cell_type": "markdown",
   "id": "intense-oriental",
   "metadata": {},
   "source": [
    "Most of the inmersions occur before lunch time, between 9 and 12"
   ]
  },
  {
   "cell_type": "markdown",
   "id": "emotional-emperor",
   "metadata": {},
   "source": [
    "### Maximun depths distribution"
   ]
  },
  {
   "cell_type": "markdown",
   "id": "grave-auction",
   "metadata": {},
   "source": [
    "Using paper to select best bins number (R(n^(1/3))/(3.49σ)):\n",
    "- R is the range of data (R = 40-0= 40),\n",
    "- n is the number of samples,\n",
    "- σ is your standard deviation.  \n",
    "https://academic.oup.com/biomet/article-abstract/66/3/605/232642"
   ]
  },
  {
   "cell_type": "code",
   "execution_count": 174,
   "id": "contemporary-irrigation",
   "metadata": {
    "scrolled": false
   },
   "outputs": [
    {
     "data": {
      "image/png": "[encoded data removed]",
      "text/plain": [
       "<Figure size 720x576 with 1 Axes>"
      ]
     },
     "metadata": {},
     "output_type": "display_data"
    }
   ],
   "source": [
    "bins = int(40*(len(df)**(1/3))/(3.49*np.std(df['depth'])))\n",
    "\n",
    "plt.figure(figsize=(10,8))\n",
    "ax = sns.histplot(df_aggregated['depth'], bins=bins)\n",
    "ax.set(xlabel='Depth', ylabel='Nº of inmersions')\n",
    "plt.show()"
   ]
  },
  {
   "cell_type": "markdown",
   "id": "pharmaceutical-compromise",
   "metadata": {},
   "source": [
    "Apparently, inmersions between 5 and 15 meters are the more common"
   ]
  },
  {
   "cell_type": "markdown",
   "id": "understanding-vatican",
   "metadata": {},
   "source": [
    "## Targets"
   ]
  },
  {
   "cell_type": "code",
   "execution_count": 160,
   "id": "daily-denial",
   "metadata": {},
   "outputs": [],
   "source": [
    "df_targets = df[df['common_name'].isin(targets)].copy()"
   ]
  },
  {
   "cell_type": "markdown",
   "id": "distinguished-wheel",
   "metadata": {},
   "source": [
    "### Month"
   ]
  },
  {
   "cell_type": "code",
   "execution_count": 171,
   "id": "processed-communication",
   "metadata": {
    "scrolled": false
   },
   "outputs": [
    {
     "data": {
      "image/png": "[encoded data removed]",
      "text/plain": [
       "<Figure size 720x576 with 1 Axes>"
      ]
     },
     "metadata": {},
     "output_type": "display_data"
    }
   ],
   "source": [
    "plt.figure(figsize=(10,8))\n",
    "ax = sns.violinplot(data=df_targets, x='common_name', y='month')\n",
    "ax.set(xlabel='Target', ylabel='Month')\n",
    "plt.show()"
   ]
  },
  {
   "cell_type": "markdown",
   "id": "approximate-swing",
   "metadata": {},
   "source": [
    "Like inmersions per month, the targets are more common in the summer, between june and september. Just gruopers seem to apper more in august"
   ]
  },
  {
   "cell_type": "markdown",
   "id": "treated-channel",
   "metadata": {},
   "source": [
    "### Hour"
   ]
  },
  {
   "cell_type": "code",
   "execution_count": 175,
   "id": "sudden-running",
   "metadata": {
    "scrolled": false
   },
   "outputs": [
    {
     "data": {
      "image/png": "[encoded data removed]",
      "text/plain": [
       "<Figure size 720x576 with 1 Axes>"
      ]
     },
     "metadata": {},
     "output_type": "display_data"
    }
   ],
   "source": [
    "plt.figure(figsize=(10,8))\n",
    "ax = sns.violinplot(data=df_targets, x='common_name', y='hour')\n",
    "ax.set(xlabel='Target', ylabel='Hour')\n",
    "plt.show()"
   ]
  },
  {
   "cell_type": "markdown",
   "id": "incoming-overall",
   "metadata": {},
   "source": [
    "The most common hours are in the range of 9 to 12"
   ]
  },
  {
   "cell_type": "markdown",
   "id": "victorian-demand",
   "metadata": {},
   "source": [
    "### Depth"
   ]
  },
  {
   "cell_type": "code",
   "execution_count": 170,
   "id": "inappropriate-cuisine",
   "metadata": {
    "scrolled": false
   },
   "outputs": [
    {
     "data": {
      "image/png": "[encoded data removed]",
      "text/plain": [
       "<Figure size 720x576 with 1 Axes>"
      ]
     },
     "metadata": {},
     "output_type": "display_data"
    }
   ],
   "source": [
    "plt.figure(figsize=(10,8))\n",
    "ax = sns.violinplot(data=df_targets, x='common_name', y='depth')\n",
    "ax.set(xlabel='Target', ylabel='Depth')\n",
    "plt.show()"
   ]
  },
  {
   "cell_type": "markdown",
   "id": "comic-enforcement",
   "metadata": {},
   "source": [
    "The targets are most seen between 5 and 15 meters, just like the distributions of inmersions"
   ]
  },
  {
   "cell_type": "markdown",
   "id": "centered-thumbnail",
   "metadata": {},
   "source": [
    "# Exporting data"
   ]
  },
  {
   "cell_type": "code",
   "execution_count": 40,
   "id": "thrown-norfolk",
   "metadata": {},
   "outputs": [],
   "source": [
    "output_file = 'occurrence_aggregated.txt'\n",
    "df_aggregated.to_csv(data_folder + output_file, index=False)"
   ]
  }
 ],
 "metadata": {
  "kernelspec": {
   "display_name": "Python 3",
   "language": "python",
   "name": "python3"
  },
  "language_info": {
   "codemirror_mode": {
    "name": "ipython",
    "version": 3
   },
   "file_extension": ".py",
   "mimetype": "text/x-python",
   "name": "python",
   "nbconvert_exporter": "python",
   "pygments_lexer": "ipython3",
   "version": "3.8.5"
  },
  "toc": {
   "base_numbering": 1,
   "nav_menu": {
    "height": "203.973px",
    "width": "274.963px"
   },
   "number_sections": true,
   "sideBar": true,
   "skip_h1_title": false,
   "title_cell": "Table of Contents",
   "title_sidebar": "Contents",
   "toc_cell": true,
   "toc_position": {},
   "toc_section_display": true,
   "toc_window_display": true
  }
 },
 "nbformat": 4,
 "nbformat_minor": 5
}
