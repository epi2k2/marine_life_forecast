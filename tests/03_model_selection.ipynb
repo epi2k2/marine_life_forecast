{
 "cells": [
  {
   "cell_type": "code",
   "execution_count": 1,
   "id": "textile-obligation",
   "metadata": {},
   "outputs": [],
   "source": [
    "import pandas as pd\n",
    "import numpy as np\n",
    "import matplotlib.pyplot as plt\n",
    "from sklearn.linear_model import LogisticRegression\n",
    "from sklearn.ensemble import RandomForestClassifier\n",
    "from sklearn.model_selection import GridSearchCV, train_test_split\n",
    "from sklearn.metrics import classification_report, roc_auc_score, roc_curve, confusion_matrix\n",
    "from sklearn.preprocessing import StandardScaler\n",
    "from sklearn.neighbors import KNeighborsClassifier\n",
    "pd.options.display.max_columns = None"
   ]
  },
  {
   "cell_type": "code",
   "execution_count": 2,
   "id": "proper-toilet",
   "metadata": {},
   "outputs": [],
   "source": [
    "df = pd.read_csv('./data/occurrence_selected.txt')"
   ]
  },
  {
   "cell_type": "code",
   "execution_count": 3,
   "id": "spatial-exhibit",
   "metadata": {
    "scrolled": false
   },
   "outputs": [
    {
     "data": {
      "text/html": [
       "<div>\n",
       "<style scoped>\n",
       "    .dataframe tbody tr th:only-of-type {\n",
       "        vertical-align: middle;\n",
       "    }\n",
       "\n",
       "    .dataframe tbody tr th {\n",
       "        vertical-align: top;\n",
       "    }\n",
       "\n",
       "    .dataframe thead th {\n",
       "        text-align: right;\n",
       "    }\n",
       "</style>\n",
       "<table border=\"1\" class=\"dataframe\">\n",
       "  <thead>\n",
       "    <tr style=\"text-align: right;\">\n",
       "      <th></th>\n",
       "      <th>decimalLatitude</th>\n",
       "      <th>decimalLongitude</th>\n",
       "      <th>waterBody</th>\n",
       "      <th>locality</th>\n",
       "      <th>countryCode</th>\n",
       "      <th>hour_sin</th>\n",
       "      <th>hour_cos</th>\n",
       "      <th>day_sin</th>\n",
       "      <th>day_cos</th>\n",
       "      <th>month_sin</th>\n",
       "      <th>month_cos</th>\n",
       "      <th>depth</th>\n",
       "      <th>target</th>\n",
       "    </tr>\n",
       "  </thead>\n",
       "  <tbody>\n",
       "    <tr>\n",
       "      <th>0</th>\n",
       "      <td>-13.9387</td>\n",
       "      <td>-171.553</td>\n",
       "      <td>South Pacific Ocean</td>\n",
       "      <td>Taliga</td>\n",
       "      <td>WS</td>\n",
       "      <td>5.000000e-01</td>\n",
       "      <td>-8.660254e-01</td>\n",
       "      <td>0.965926</td>\n",
       "      <td>2.588190e-01</td>\n",
       "      <td>0.965926</td>\n",
       "      <td>0.258819</td>\n",
       "      <td>13.50</td>\n",
       "      <td>0</td>\n",
       "    </tr>\n",
       "    <tr>\n",
       "      <th>1</th>\n",
       "      <td>-13.9387</td>\n",
       "      <td>-171.553</td>\n",
       "      <td>South Pacific Ocean</td>\n",
       "      <td>Cowabunga</td>\n",
       "      <td>WS</td>\n",
       "      <td>1.224647e-16</td>\n",
       "      <td>-1.000000e+00</td>\n",
       "      <td>0.965926</td>\n",
       "      <td>2.588190e-01</td>\n",
       "      <td>0.965926</td>\n",
       "      <td>0.258819</td>\n",
       "      <td>10.20</td>\n",
       "      <td>0</td>\n",
       "    </tr>\n",
       "    <tr>\n",
       "      <th>2</th>\n",
       "      <td>-13.9387</td>\n",
       "      <td>-171.553</td>\n",
       "      <td>South Pacific Ocean</td>\n",
       "      <td>Cowabunga</td>\n",
       "      <td>WS</td>\n",
       "      <td>1.224647e-16</td>\n",
       "      <td>-1.000000e+00</td>\n",
       "      <td>1.000000</td>\n",
       "      <td>1.194340e-15</td>\n",
       "      <td>0.965926</td>\n",
       "      <td>0.258819</td>\n",
       "      <td>9.75</td>\n",
       "      <td>0</td>\n",
       "    </tr>\n",
       "    <tr>\n",
       "      <th>3</th>\n",
       "      <td>-13.9387</td>\n",
       "      <td>-171.553</td>\n",
       "      <td>South Pacific Ocean</td>\n",
       "      <td>Cowabunga</td>\n",
       "      <td>WS</td>\n",
       "      <td>5.000000e-01</td>\n",
       "      <td>-8.660254e-01</td>\n",
       "      <td>1.000000</td>\n",
       "      <td>1.194340e-15</td>\n",
       "      <td>0.965926</td>\n",
       "      <td>0.258819</td>\n",
       "      <td>10.50</td>\n",
       "      <td>0</td>\n",
       "    </tr>\n",
       "    <tr>\n",
       "      <th>4</th>\n",
       "      <td>53.8635</td>\n",
       "      <td>-166.049</td>\n",
       "      <td>Hidden Lake</td>\n",
       "      <td>Sunrise Grand Select Montemare Resort House Reef</td>\n",
       "      <td>EG</td>\n",
       "      <td>-1.000000e+00</td>\n",
       "      <td>-1.836970e-16</td>\n",
       "      <td>-0.500000</td>\n",
       "      <td>8.660254e-01</td>\n",
       "      <td>0.965926</td>\n",
       "      <td>-0.258819</td>\n",
       "      <td>10.00</td>\n",
       "      <td>0</td>\n",
       "    </tr>\n",
       "  </tbody>\n",
       "</table>\n",
       "</div>"
      ],
      "text/plain": [
       "   decimalLatitude  decimalLongitude            waterBody  \\\n",
       "0         -13.9387          -171.553  South Pacific Ocean   \n",
       "1         -13.9387          -171.553  South Pacific Ocean   \n",
       "2         -13.9387          -171.553  South Pacific Ocean   \n",
       "3         -13.9387          -171.553  South Pacific Ocean   \n",
       "4          53.8635          -166.049          Hidden Lake   \n",
       "\n",
       "                                           locality countryCode      hour_sin  \\\n",
       "0                                            Taliga          WS  5.000000e-01   \n",
       "1                                         Cowabunga          WS  1.224647e-16   \n",
       "2                                         Cowabunga          WS  1.224647e-16   \n",
       "3                                         Cowabunga          WS  5.000000e-01   \n",
       "4  Sunrise Grand Select Montemare Resort House Reef          EG -1.000000e+00   \n",
       "\n",
       "       hour_cos   day_sin       day_cos  month_sin  month_cos  depth  target  \n",
       "0 -8.660254e-01  0.965926  2.588190e-01   0.965926   0.258819  13.50       0  \n",
       "1 -1.000000e+00  0.965926  2.588190e-01   0.965926   0.258819  10.20       0  \n",
       "2 -1.000000e+00  1.000000  1.194340e-15   0.965926   0.258819   9.75       0  \n",
       "3 -8.660254e-01  1.000000  1.194340e-15   0.965926   0.258819  10.50       0  \n",
       "4 -1.836970e-16 -0.500000  8.660254e-01   0.965926  -0.258819  10.00       0  "
      ]
     },
     "execution_count": 3,
     "metadata": {},
     "output_type": "execute_result"
    }
   ],
   "source": [
    "df.head()"
   ]
  },
  {
   "cell_type": "code",
   "execution_count": 4,
   "id": "primary-graduation",
   "metadata": {},
   "outputs": [
    {
     "data": {
      "text/html": [
       "<div>\n",
       "<style scoped>\n",
       "    .dataframe tbody tr th:only-of-type {\n",
       "        vertical-align: middle;\n",
       "    }\n",
       "\n",
       "    .dataframe tbody tr th {\n",
       "        vertical-align: top;\n",
       "    }\n",
       "\n",
       "    .dataframe thead th {\n",
       "        text-align: right;\n",
       "    }\n",
       "</style>\n",
       "<table border=\"1\" class=\"dataframe\">\n",
       "  <thead>\n",
       "    <tr style=\"text-align: right;\">\n",
       "      <th></th>\n",
       "      <th>decimalLatitude</th>\n",
       "      <th>decimalLongitude</th>\n",
       "      <th>waterBody</th>\n",
       "      <th>locality</th>\n",
       "      <th>countryCode</th>\n",
       "      <th>hour_sin</th>\n",
       "      <th>hour_cos</th>\n",
       "      <th>day_sin</th>\n",
       "      <th>day_cos</th>\n",
       "      <th>month_sin</th>\n",
       "      <th>month_cos</th>\n",
       "      <th>depth</th>\n",
       "      <th>target</th>\n",
       "    </tr>\n",
       "  </thead>\n",
       "  <tbody>\n",
       "    <tr>\n",
       "      <th>3734</th>\n",
       "      <td>27.6840</td>\n",
       "      <td>-18.03990</td>\n",
       "      <td>Atlantic Ocean</td>\n",
       "      <td>El Desierto</td>\n",
       "      <td>ES</td>\n",
       "      <td>7.071068e-01</td>\n",
       "      <td>-0.707107</td>\n",
       "      <td>2.588190e-01</td>\n",
       "      <td>9.659258e-01</td>\n",
       "      <td>0.866025</td>\n",
       "      <td>-0.500000</td>\n",
       "      <td>12.40</td>\n",
       "      <td>0</td>\n",
       "    </tr>\n",
       "    <tr>\n",
       "      <th>3735</th>\n",
       "      <td>27.6489</td>\n",
       "      <td>-18.01280</td>\n",
       "      <td>Atlantic Ocean</td>\n",
       "      <td>Punta Las Cañas</td>\n",
       "      <td>ES</td>\n",
       "      <td>2.588190e-01</td>\n",
       "      <td>-0.965926</td>\n",
       "      <td>-2.449294e-16</td>\n",
       "      <td>1.000000e+00</td>\n",
       "      <td>0.866025</td>\n",
       "      <td>-0.500000</td>\n",
       "      <td>13.55</td>\n",
       "      <td>0</td>\n",
       "    </tr>\n",
       "    <tr>\n",
       "      <th>3736</th>\n",
       "      <td>27.6178</td>\n",
       "      <td>-17.99850</td>\n",
       "      <td>Atlantic Ocean</td>\n",
       "      <td>Roque La Mar</td>\n",
       "      <td>ES</td>\n",
       "      <td>-8.660254e-01</td>\n",
       "      <td>-0.500000</td>\n",
       "      <td>-8.660254e-01</td>\n",
       "      <td>-5.000000e-01</td>\n",
       "      <td>0.707107</td>\n",
       "      <td>-0.707107</td>\n",
       "      <td>14.50</td>\n",
       "      <td>0</td>\n",
       "    </tr>\n",
       "    <tr>\n",
       "      <th>3737</th>\n",
       "      <td>27.6349</td>\n",
       "      <td>-17.99850</td>\n",
       "      <td>Atlantic Ocean</td>\n",
       "      <td>Punta Lajial</td>\n",
       "      <td>ES</td>\n",
       "      <td>7.071068e-01</td>\n",
       "      <td>-0.707107</td>\n",
       "      <td>1.000000e+00</td>\n",
       "      <td>6.123234e-17</td>\n",
       "      <td>0.866025</td>\n",
       "      <td>-0.500000</td>\n",
       "      <td>18.50</td>\n",
       "      <td>0</td>\n",
       "    </tr>\n",
       "    <tr>\n",
       "      <th>3738</th>\n",
       "      <td>27.6176</td>\n",
       "      <td>-17.99200</td>\n",
       "      <td>Atlantic Ocean</td>\n",
       "      <td>El Puerto</td>\n",
       "      <td>ES</td>\n",
       "      <td>-7.071068e-01</td>\n",
       "      <td>0.707107</td>\n",
       "      <td>-2.588190e-01</td>\n",
       "      <td>-9.659258e-01</td>\n",
       "      <td>0.707107</td>\n",
       "      <td>-0.707107</td>\n",
       "      <td>6.00</td>\n",
       "      <td>0</td>\n",
       "    </tr>\n",
       "    <tr>\n",
       "      <th>...</th>\n",
       "      <td>...</td>\n",
       "      <td>...</td>\n",
       "      <td>...</td>\n",
       "      <td>...</td>\n",
       "      <td>...</td>\n",
       "      <td>...</td>\n",
       "      <td>...</td>\n",
       "      <td>...</td>\n",
       "      <td>...</td>\n",
       "      <td>...</td>\n",
       "      <td>...</td>\n",
       "      <td>...</td>\n",
       "      <td>...</td>\n",
       "    </tr>\n",
       "    <tr>\n",
       "      <th>4879</th>\n",
       "      <td>39.6820</td>\n",
       "      <td>3.45438</td>\n",
       "      <td>Mediterranean Sea</td>\n",
       "      <td>Bahia Grande</td>\n",
       "      <td>ES</td>\n",
       "      <td>5.000000e-01</td>\n",
       "      <td>-0.866025</td>\n",
       "      <td>-2.588190e-01</td>\n",
       "      <td>-9.659258e-01</td>\n",
       "      <td>0.965926</td>\n",
       "      <td>0.258819</td>\n",
       "      <td>3.50</td>\n",
       "      <td>0</td>\n",
       "    </tr>\n",
       "    <tr>\n",
       "      <th>4901</th>\n",
       "      <td>39.9670</td>\n",
       "      <td>3.83420</td>\n",
       "      <td>Mediterranean Sea</td>\n",
       "      <td>Cala Blanca</td>\n",
       "      <td>ES</td>\n",
       "      <td>1.224647e-16</td>\n",
       "      <td>-1.000000</td>\n",
       "      <td>8.660254e-01</td>\n",
       "      <td>5.000000e-01</td>\n",
       "      <td>0.866025</td>\n",
       "      <td>-0.500000</td>\n",
       "      <td>7.50</td>\n",
       "      <td>1</td>\n",
       "    </tr>\n",
       "    <tr>\n",
       "      <th>4933</th>\n",
       "      <td>39.9387</td>\n",
       "      <td>3.96301</td>\n",
       "      <td>Mediterraneo</td>\n",
       "      <td>Malacolt</td>\n",
       "      <td>ES</td>\n",
       "      <td>5.000000e-01</td>\n",
       "      <td>-0.866025</td>\n",
       "      <td>2.588190e-01</td>\n",
       "      <td>-9.659258e-01</td>\n",
       "      <td>0.965926</td>\n",
       "      <td>-0.258819</td>\n",
       "      <td>19.00</td>\n",
       "      <td>1</td>\n",
       "    </tr>\n",
       "    <tr>\n",
       "      <th>4934</th>\n",
       "      <td>39.9394</td>\n",
       "      <td>3.96370</td>\n",
       "      <td>Mediterraneo</td>\n",
       "      <td>Isla Helmound</td>\n",
       "      <td>ES</td>\n",
       "      <td>5.000000e-01</td>\n",
       "      <td>-0.866025</td>\n",
       "      <td>8.660254e-01</td>\n",
       "      <td>-5.000000e-01</td>\n",
       "      <td>0.965926</td>\n",
       "      <td>-0.258819</td>\n",
       "      <td>10.00</td>\n",
       "      <td>0</td>\n",
       "    </tr>\n",
       "    <tr>\n",
       "      <th>4986</th>\n",
       "      <td>40.0247</td>\n",
       "      <td>4.19418</td>\n",
       "      <td>Balearic Sea</td>\n",
       "      <td>Swiss Cheese</td>\n",
       "      <td>ES</td>\n",
       "      <td>5.000000e-01</td>\n",
       "      <td>-0.866025</td>\n",
       "      <td>-9.659258e-01</td>\n",
       "      <td>2.588190e-01</td>\n",
       "      <td>0.866025</td>\n",
       "      <td>0.500000</td>\n",
       "      <td>6.00</td>\n",
       "      <td>0</td>\n",
       "    </tr>\n",
       "  </tbody>\n",
       "</table>\n",
       "<p>561 rows × 13 columns</p>\n",
       "</div>"
      ],
      "text/plain": [
       "      decimalLatitude  decimalLongitude          waterBody         locality  \\\n",
       "3734          27.6840         -18.03990     Atlantic Ocean      El Desierto   \n",
       "3735          27.6489         -18.01280     Atlantic Ocean  Punta Las Cañas   \n",
       "3736          27.6178         -17.99850     Atlantic Ocean     Roque La Mar   \n",
       "3737          27.6349         -17.99850     Atlantic Ocean     Punta Lajial   \n",
       "3738          27.6176         -17.99200     Atlantic Ocean        El Puerto   \n",
       "...               ...               ...                ...              ...   \n",
       "4879          39.6820           3.45438  Mediterranean Sea     Bahia Grande   \n",
       "4901          39.9670           3.83420  Mediterranean Sea      Cala Blanca   \n",
       "4933          39.9387           3.96301       Mediterraneo         Malacolt   \n",
       "4934          39.9394           3.96370       Mediterraneo    Isla Helmound   \n",
       "4986          40.0247           4.19418       Balearic Sea     Swiss Cheese   \n",
       "\n",
       "     countryCode      hour_sin  hour_cos       day_sin       day_cos  \\\n",
       "3734          ES  7.071068e-01 -0.707107  2.588190e-01  9.659258e-01   \n",
       "3735          ES  2.588190e-01 -0.965926 -2.449294e-16  1.000000e+00   \n",
       "3736          ES -8.660254e-01 -0.500000 -8.660254e-01 -5.000000e-01   \n",
       "3737          ES  7.071068e-01 -0.707107  1.000000e+00  6.123234e-17   \n",
       "3738          ES -7.071068e-01  0.707107 -2.588190e-01 -9.659258e-01   \n",
       "...          ...           ...       ...           ...           ...   \n",
       "4879          ES  5.000000e-01 -0.866025 -2.588190e-01 -9.659258e-01   \n",
       "4901          ES  1.224647e-16 -1.000000  8.660254e-01  5.000000e-01   \n",
       "4933          ES  5.000000e-01 -0.866025  2.588190e-01 -9.659258e-01   \n",
       "4934          ES  5.000000e-01 -0.866025  8.660254e-01 -5.000000e-01   \n",
       "4986          ES  5.000000e-01 -0.866025 -9.659258e-01  2.588190e-01   \n",
       "\n",
       "      month_sin  month_cos  depth  target  \n",
       "3734   0.866025  -0.500000  12.40       0  \n",
       "3735   0.866025  -0.500000  13.55       0  \n",
       "3736   0.707107  -0.707107  14.50       0  \n",
       "3737   0.866025  -0.500000  18.50       0  \n",
       "3738   0.707107  -0.707107   6.00       0  \n",
       "...         ...        ...    ...     ...  \n",
       "4879   0.965926   0.258819   3.50       0  \n",
       "4901   0.866025  -0.500000   7.50       1  \n",
       "4933   0.965926  -0.258819  19.00       1  \n",
       "4934   0.965926  -0.258819  10.00       0  \n",
       "4986   0.866025   0.500000   6.00       0  \n",
       "\n",
       "[561 rows x 13 columns]"
      ]
     },
     "execution_count": 4,
     "metadata": {},
     "output_type": "execute_result"
    }
   ],
   "source": [
    "df[df['countryCode'] == 'ES']"
   ]
  },
  {
   "cell_type": "code",
   "execution_count": 5,
   "id": "coupled-secondary",
   "metadata": {},
   "outputs": [],
   "source": [
    "X = df.drop(columns=['target'])\n",
    "y = df['target']"
   ]
  },
  {
   "cell_type": "code",
   "execution_count": 6,
   "id": "controlling-slovenia",
   "metadata": {},
   "outputs": [],
   "source": [
    "#Split in train and test\n",
    "X_train, X_test, y_train, y_test = train_test_split(X, y, test_size=0.33, random_state=33, stratify=y)"
   ]
  },
  {
   "cell_type": "markdown",
   "id": "standard-upper",
   "metadata": {},
   "source": [
    "#Split in train and validation\n",
    "X_train, X_validation, y_train, y_validation = train_test_split(X_train, y_train, test_size=0.25, random_state=33, stratify=y_train)"
   ]
  },
  {
   "cell_type": "code",
   "execution_count": 8,
   "id": "martial-glenn",
   "metadata": {},
   "outputs": [],
   "source": [
    "#Stardard scaler depth\n",
    "sc = StandardScaler()\n",
    "X_train['depth_s'] = sc.fit_transform(X_train[['depth']])\n",
    "#X_validation['depth_s'] = sc.transform(X_validation[['depth']])"
   ]
  },
  {
   "cell_type": "code",
   "execution_count": 9,
   "id": "commercial-plastic",
   "metadata": {},
   "outputs": [],
   "source": [
    "#Stardard scaler coordinates\n",
    "X_train['decimalLatitude_s'] = sc.fit_transform(X_train[['decimalLatitude']])\n",
    "#X_validation['decimalLatitude_s'] = sc.transform(X_validation[['decimalLatitude']])\n",
    "X_train['decimalLongitude_s'] = sc.fit_transform(X_train[['decimalLongitude']])\n",
    "#X_validation['decimalLongitude_s'] = sc.transform(X_validation[['decimalLongitude']])"
   ]
  },
  {
   "cell_type": "code",
   "execution_count": 10,
   "id": "second-means",
   "metadata": {},
   "outputs": [
    {
     "data": {
      "text/html": [
       "<div>\n",
       "<style scoped>\n",
       "    .dataframe tbody tr th:only-of-type {\n",
       "        vertical-align: middle;\n",
       "    }\n",
       "\n",
       "    .dataframe tbody tr th {\n",
       "        vertical-align: top;\n",
       "    }\n",
       "\n",
       "    .dataframe thead th {\n",
       "        text-align: right;\n",
       "    }\n",
       "</style>\n",
       "<table border=\"1\" class=\"dataframe\">\n",
       "  <thead>\n",
       "    <tr style=\"text-align: right;\">\n",
       "      <th></th>\n",
       "      <th>decimalLatitude</th>\n",
       "      <th>decimalLongitude</th>\n",
       "      <th>waterBody</th>\n",
       "      <th>locality</th>\n",
       "      <th>countryCode</th>\n",
       "      <th>hour_sin</th>\n",
       "      <th>hour_cos</th>\n",
       "      <th>day_sin</th>\n",
       "      <th>day_cos</th>\n",
       "      <th>month_sin</th>\n",
       "      <th>month_cos</th>\n",
       "      <th>depth</th>\n",
       "      <th>depth_s</th>\n",
       "      <th>decimalLatitude_s</th>\n",
       "      <th>decimalLongitude_s</th>\n",
       "    </tr>\n",
       "  </thead>\n",
       "  <tbody>\n",
       "    <tr>\n",
       "      <th>8912</th>\n",
       "      <td>10.11870</td>\n",
       "      <td>99.8152</td>\n",
       "      <td>Koh Tao</td>\n",
       "      <td>Japanese Gardens</td>\n",
       "      <td>TH</td>\n",
       "      <td>-0.258819</td>\n",
       "      <td>-0.965926</td>\n",
       "      <td>-2.449294e-16</td>\n",
       "      <td>1.000000</td>\n",
       "      <td>7.071068e-01</td>\n",
       "      <td>-0.707107</td>\n",
       "      <td>8.145</td>\n",
       "      <td>-0.292916</td>\n",
       "      <td>-0.347535</td>\n",
       "      <td>0.989638</td>\n",
       "    </tr>\n",
       "    <tr>\n",
       "      <th>9640</th>\n",
       "      <td>5.97309</td>\n",
       "      <td>116.0070</td>\n",
       "      <td>South China Sea</td>\n",
       "      <td>Manukan Reef</td>\n",
       "      <td>MY</td>\n",
       "      <td>0.258819</td>\n",
       "      <td>-0.965926</td>\n",
       "      <td>-8.660254e-01</td>\n",
       "      <td>-0.500000</td>\n",
       "      <td>5.000000e-01</td>\n",
       "      <td>0.866025</td>\n",
       "      <td>8.000</td>\n",
       "      <td>-0.326273</td>\n",
       "      <td>-0.529403</td>\n",
       "      <td>1.176365</td>\n",
       "    </tr>\n",
       "    <tr>\n",
       "      <th>5812</th>\n",
       "      <td>53.28370</td>\n",
       "      <td>13.4330</td>\n",
       "      <td>Dreetzsee</td>\n",
       "      <td>Dreetzsee</td>\n",
       "      <td>DE</td>\n",
       "      <td>-0.500000</td>\n",
       "      <td>-0.866025</td>\n",
       "      <td>7.071068e-01</td>\n",
       "      <td>0.707107</td>\n",
       "      <td>7.071068e-01</td>\n",
       "      <td>-0.707107</td>\n",
       "      <td>4.000</td>\n",
       "      <td>-1.246444</td>\n",
       "      <td>1.546120</td>\n",
       "      <td>-0.006539</td>\n",
       "    </tr>\n",
       "    <tr>\n",
       "      <th>1379</th>\n",
       "      <td>20.43100</td>\n",
       "      <td>-86.9081</td>\n",
       "      <td>Chankanaab National Park</td>\n",
       "      <td>Cedar Pass</td>\n",
       "      <td>MX</td>\n",
       "      <td>-0.707107</td>\n",
       "      <td>-0.707107</td>\n",
       "      <td>8.660254e-01</td>\n",
       "      <td>0.500000</td>\n",
       "      <td>1.224647e-16</td>\n",
       "      <td>-1.000000</td>\n",
       "      <td>8.500</td>\n",
       "      <td>-0.211251</td>\n",
       "      <td>0.104867</td>\n",
       "      <td>-1.163693</td>\n",
       "    </tr>\n",
       "    <tr>\n",
       "      <th>2299</th>\n",
       "      <td>36.95120</td>\n",
       "      <td>-77.7660</td>\n",
       "      <td>Richmond, VA</td>\n",
       "      <td>Lake Rawlings</td>\n",
       "      <td>US</td>\n",
       "      <td>0.500000</td>\n",
       "      <td>-0.866025</td>\n",
       "      <td>-9.659258e-01</td>\n",
       "      <td>0.258819</td>\n",
       "      <td>5.000000e-01</td>\n",
       "      <td>-0.866025</td>\n",
       "      <td>7.620</td>\n",
       "      <td>-0.413689</td>\n",
       "      <td>0.829611</td>\n",
       "      <td>-1.058265</td>\n",
       "    </tr>\n",
       "  </tbody>\n",
       "</table>\n",
       "</div>"
      ],
      "text/plain": [
       "      decimalLatitude  decimalLongitude                 waterBody  \\\n",
       "8912         10.11870           99.8152                   Koh Tao   \n",
       "9640          5.97309          116.0070           South China Sea   \n",
       "5812         53.28370           13.4330                 Dreetzsee   \n",
       "1379         20.43100          -86.9081  Chankanaab National Park   \n",
       "2299         36.95120          -77.7660              Richmond, VA   \n",
       "\n",
       "              locality countryCode  hour_sin  hour_cos       day_sin  \\\n",
       "8912  Japanese Gardens          TH -0.258819 -0.965926 -2.449294e-16   \n",
       "9640      Manukan Reef          MY  0.258819 -0.965926 -8.660254e-01   \n",
       "5812         Dreetzsee          DE -0.500000 -0.866025  7.071068e-01   \n",
       "1379        Cedar Pass          MX -0.707107 -0.707107  8.660254e-01   \n",
       "2299     Lake Rawlings          US  0.500000 -0.866025 -9.659258e-01   \n",
       "\n",
       "       day_cos     month_sin  month_cos  depth   depth_s  decimalLatitude_s  \\\n",
       "8912  1.000000  7.071068e-01  -0.707107  8.145 -0.292916          -0.347535   \n",
       "9640 -0.500000  5.000000e-01   0.866025  8.000 -0.326273          -0.529403   \n",
       "5812  0.707107  7.071068e-01  -0.707107  4.000 -1.246444           1.546120   \n",
       "1379  0.500000  1.224647e-16  -1.000000  8.500 -0.211251           0.104867   \n",
       "2299  0.258819  5.000000e-01  -0.866025  7.620 -0.413689           0.829611   \n",
       "\n",
       "      decimalLongitude_s  \n",
       "8912            0.989638  \n",
       "9640            1.176365  \n",
       "5812           -0.006539  \n",
       "1379           -1.163693  \n",
       "2299           -1.058265  "
      ]
     },
     "execution_count": 10,
     "metadata": {},
     "output_type": "execute_result"
    }
   ],
   "source": [
    "X_train.head()"
   ]
  },
  {
   "cell_type": "code",
   "execution_count": 11,
   "id": "alive-gasoline",
   "metadata": {},
   "outputs": [],
   "source": [
    "#Mean target encoder for categorical columns\n",
    "def mean_target_encoder_fit(df, column, target):\n",
    "    df['target'] = target\n",
    "    m_dict = dict(df.groupby(column).mean()['target'])\n",
    "    df.drop(columns='target', inplace=True)\n",
    "    return m_dict"
   ]
  },
  {
   "cell_type": "code",
   "execution_count": 12,
   "id": "hundred-cargo",
   "metadata": {},
   "outputs": [],
   "source": [
    "def mean_target_encoder_transform(df,column,m_dict):\n",
    "    df[column+'_m'] = df[column].map(m_dict)\n",
    "    df[column+'_m'].fillna(0, inplace=True)"
   ]
  },
  {
   "cell_type": "code",
   "execution_count": 13,
   "id": "closing-mineral",
   "metadata": {},
   "outputs": [],
   "source": [
    "waterBody_dict = mean_target_encoder_fit(X_train, 'waterBody', y_train)\n",
    "locality_dict = mean_target_encoder_fit(X_train, 'locality', y_train)\n",
    "countryCode_dict = mean_target_encoder_fit(X_train, 'countryCode', y_train)"
   ]
  },
  {
   "cell_type": "code",
   "execution_count": 14,
   "id": "cellular-machine",
   "metadata": {},
   "outputs": [],
   "source": [
    "mean_target_encoder_transform(X_train,'waterBody',waterBody_dict)\n",
    "mean_target_encoder_transform(X_train,'locality',locality_dict)\n",
    "mean_target_encoder_transform(X_train,'countryCode',countryCode_dict)\n",
    "#mean_target_encoder_transform(X_validation,'waterBody',waterBody_dict)\n",
    "#mean_target_encoder_transform(X_validation,'locality',locality_dict)\n",
    "#mean_target_encoder_transform(X_validation,'countryCode',countryCode_dict)"
   ]
  },
  {
   "cell_type": "code",
   "execution_count": 15,
   "id": "verbal-slovak",
   "metadata": {
    "scrolled": true
   },
   "outputs": [],
   "source": [
    "#X_validation.drop(columns=['waterBody', 'locality', 'countryCode'], inplace=True)\n",
    "X_train.drop(columns=['waterBody', 'locality', 'countryCode'], inplace=True)"
   ]
  },
  {
   "cell_type": "markdown",
   "id": "experimental-personality",
   "metadata": {
    "scrolled": true
   },
   "source": [
    "X_validation.isna().sum()"
   ]
  },
  {
   "cell_type": "code",
   "execution_count": 17,
   "id": "hawaiian-venue",
   "metadata": {
    "scrolled": true
   },
   "outputs": [
    {
     "data": {
      "text/plain": [
       "Index(['decimalLatitude', 'decimalLongitude', 'hour_sin', 'hour_cos',\n",
       "       'day_sin', 'day_cos', 'month_sin', 'month_cos', 'depth', 'depth_s',\n",
       "       'decimalLatitude_s', 'decimalLongitude_s', 'waterBody_m', 'locality_m',\n",
       "       'countryCode_m'],\n",
       "      dtype='object')"
      ]
     },
     "execution_count": 17,
     "metadata": {},
     "output_type": "execute_result"
    }
   ],
   "source": [
    "X_train.columns"
   ]
  },
  {
   "cell_type": "code",
   "execution_count": 18,
   "id": "chemical-forestry",
   "metadata": {},
   "outputs": [],
   "source": [
    "columns = ['waterBody_m', 'locality_m', 'countryCode_m',\n",
    "           'hour_sin', 'hour_cos', 'day_sin', 'day_cos', 'month_sin', 'month_cos', 'depth_s']\n",
    "X_train = X_train[columns]\n",
    "X_validation = X_validation[columns]"
   ]
  },
  {
   "cell_type": "code",
   "execution_count": 19,
   "id": "pointed-remains",
   "metadata": {},
   "outputs": [
    {
     "data": {
      "text/html": [
       "<div>\n",
       "<style scoped>\n",
       "    .dataframe tbody tr th:only-of-type {\n",
       "        vertical-align: middle;\n",
       "    }\n",
       "\n",
       "    .dataframe tbody tr th {\n",
       "        vertical-align: top;\n",
       "    }\n",
       "\n",
       "    .dataframe thead th {\n",
       "        text-align: right;\n",
       "    }\n",
       "</style>\n",
       "<table border=\"1\" class=\"dataframe\">\n",
       "  <thead>\n",
       "    <tr style=\"text-align: right;\">\n",
       "      <th></th>\n",
       "      <th>waterBody_m</th>\n",
       "      <th>locality_m</th>\n",
       "      <th>countryCode_m</th>\n",
       "      <th>hour_sin</th>\n",
       "      <th>hour_cos</th>\n",
       "      <th>day_sin</th>\n",
       "      <th>day_cos</th>\n",
       "      <th>month_sin</th>\n",
       "      <th>month_cos</th>\n",
       "      <th>depth_s</th>\n",
       "    </tr>\n",
       "  </thead>\n",
       "  <tbody>\n",
       "    <tr>\n",
       "      <th>8912</th>\n",
       "      <td>0.181818</td>\n",
       "      <td>0.0</td>\n",
       "      <td>0.185393</td>\n",
       "      <td>-0.258819</td>\n",
       "      <td>-0.965926</td>\n",
       "      <td>-2.449294e-16</td>\n",
       "      <td>1.000000</td>\n",
       "      <td>7.071068e-01</td>\n",
       "      <td>-0.707107</td>\n",
       "      <td>-0.292916</td>\n",
       "    </tr>\n",
       "    <tr>\n",
       "      <th>9640</th>\n",
       "      <td>0.121429</td>\n",
       "      <td>0.0</td>\n",
       "      <td>0.172043</td>\n",
       "      <td>0.258819</td>\n",
       "      <td>-0.965926</td>\n",
       "      <td>-8.660254e-01</td>\n",
       "      <td>-0.500000</td>\n",
       "      <td>5.000000e-01</td>\n",
       "      <td>0.866025</td>\n",
       "      <td>-0.326273</td>\n",
       "    </tr>\n",
       "    <tr>\n",
       "      <th>5812</th>\n",
       "      <td>0.000000</td>\n",
       "      <td>0.0</td>\n",
       "      <td>0.000000</td>\n",
       "      <td>-0.500000</td>\n",
       "      <td>-0.866025</td>\n",
       "      <td>7.071068e-01</td>\n",
       "      <td>0.707107</td>\n",
       "      <td>7.071068e-01</td>\n",
       "      <td>-0.707107</td>\n",
       "      <td>-1.246444</td>\n",
       "    </tr>\n",
       "    <tr>\n",
       "      <th>1379</th>\n",
       "      <td>0.250000</td>\n",
       "      <td>0.5</td>\n",
       "      <td>0.240000</td>\n",
       "      <td>-0.707107</td>\n",
       "      <td>-0.707107</td>\n",
       "      <td>8.660254e-01</td>\n",
       "      <td>0.500000</td>\n",
       "      <td>1.224647e-16</td>\n",
       "      <td>-1.000000</td>\n",
       "      <td>-0.211251</td>\n",
       "    </tr>\n",
       "    <tr>\n",
       "      <th>2299</th>\n",
       "      <td>0.000000</td>\n",
       "      <td>0.0</td>\n",
       "      <td>0.135593</td>\n",
       "      <td>0.500000</td>\n",
       "      <td>-0.866025</td>\n",
       "      <td>-9.659258e-01</td>\n",
       "      <td>0.258819</td>\n",
       "      <td>5.000000e-01</td>\n",
       "      <td>-0.866025</td>\n",
       "      <td>-0.413689</td>\n",
       "    </tr>\n",
       "  </tbody>\n",
       "</table>\n",
       "</div>"
      ],
      "text/plain": [
       "      waterBody_m  locality_m  countryCode_m  hour_sin  hour_cos  \\\n",
       "8912     0.181818         0.0       0.185393 -0.258819 -0.965926   \n",
       "9640     0.121429         0.0       0.172043  0.258819 -0.965926   \n",
       "5812     0.000000         0.0       0.000000 -0.500000 -0.866025   \n",
       "1379     0.250000         0.5       0.240000 -0.707107 -0.707107   \n",
       "2299     0.000000         0.0       0.135593  0.500000 -0.866025   \n",
       "\n",
       "           day_sin   day_cos     month_sin  month_cos   depth_s  \n",
       "8912 -2.449294e-16  1.000000  7.071068e-01  -0.707107 -0.292916  \n",
       "9640 -8.660254e-01 -0.500000  5.000000e-01   0.866025 -0.326273  \n",
       "5812  7.071068e-01  0.707107  7.071068e-01  -0.707107 -1.246444  \n",
       "1379  8.660254e-01  0.500000  1.224647e-16  -1.000000 -0.211251  \n",
       "2299 -9.659258e-01  0.258819  5.000000e-01  -0.866025 -0.413689  "
      ]
     },
     "execution_count": 19,
     "metadata": {},
     "output_type": "execute_result"
    }
   ],
   "source": [
    "X_train.head()"
   ]
  },
  {
   "cell_type": "code",
   "execution_count": 166,
   "id": "described-heater",
   "metadata": {},
   "outputs": [],
   "source": [
    "LogisticRegression?"
   ]
  },
  {
   "cell_type": "code",
   "execution_count": 168,
   "id": "adjusted-attraction",
   "metadata": {},
   "outputs": [],
   "source": [
    "GridSearchCV?"
   ]
  },
  {
   "cell_type": "code",
   "execution_count": 20,
   "id": "wireless-reducing",
   "metadata": {},
   "outputs": [
    {
     "data": {
      "text/plain": [
       "GridSearchCV(estimator=LogisticRegression(max_iter=1000),\n",
       "             param_grid={'C': array([0.1, 0.2, 0.3, 0.4, 0.5, 0.6, 0.7, 0.8, 0.9]),\n",
       "                         'class_weight': [None, 'balanced'],\n",
       "                         'solver': ['newton-cg', 'lbfgs', 'liblinear', 'sag',\n",
       "                                    'saga']},\n",
       "             scoring='f1')"
      ]
     },
     "execution_count": 20,
     "metadata": {},
     "output_type": "execute_result"
    }
   ],
   "source": [
    "clf_lr = GridSearchCV(LogisticRegression(max_iter=1000),\n",
    "                     param_grid={\"class_weight\":[None, 'balanced'],\n",
    "                                 \"solver\":['newton-cg', 'lbfgs', 'liblinear', 'sag', 'saga'],\n",
    "                                 'C': np.arange(0.1, 1, .1)},\n",
    "                     scoring='f1')\n",
    "clf_lr.fit(X_train, y_train)"
   ]
  },
  {
   "cell_type": "code",
   "execution_count": 21,
   "id": "fitted-holocaust",
   "metadata": {
    "scrolled": true
   },
   "outputs": [
    {
     "data": {
      "text/plain": [
       "{'C': 0.1, 'class_weight': 'balanced', 'solver': 'newton-cg'}"
      ]
     },
     "execution_count": 21,
     "metadata": {},
     "output_type": "execute_result"
    }
   ],
   "source": [
    "clf_lr.best_params_"
   ]
  },
  {
   "cell_type": "code",
   "execution_count": 58,
   "id": "motivated-barcelona",
   "metadata": {},
   "outputs": [
    {
     "data": {
      "text/html": [
       "<div>\n",
       "<style scoped>\n",
       "    .dataframe tbody tr th:only-of-type {\n",
       "        vertical-align: middle;\n",
       "    }\n",
       "\n",
       "    .dataframe tbody tr th {\n",
       "        vertical-align: top;\n",
       "    }\n",
       "\n",
       "    .dataframe thead th {\n",
       "        text-align: right;\n",
       "    }\n",
       "</style>\n",
       "<table border=\"1\" class=\"dataframe\">\n",
       "  <thead>\n",
       "    <tr style=\"text-align: right;\">\n",
       "      <th></th>\n",
       "      <th>mean_fit_time</th>\n",
       "      <th>std_fit_time</th>\n",
       "      <th>mean_score_time</th>\n",
       "      <th>std_score_time</th>\n",
       "      <th>param_C</th>\n",
       "      <th>param_class_weight</th>\n",
       "      <th>param_solver</th>\n",
       "      <th>params</th>\n",
       "      <th>split0_test_score</th>\n",
       "      <th>split1_test_score</th>\n",
       "      <th>split2_test_score</th>\n",
       "      <th>split3_test_score</th>\n",
       "      <th>split4_test_score</th>\n",
       "      <th>mean_test_score</th>\n",
       "      <th>std_test_score</th>\n",
       "      <th>rank_test_score</th>\n",
       "    </tr>\n",
       "  </thead>\n",
       "  <tbody>\n",
       "    <tr>\n",
       "      <th>0</th>\n",
       "      <td>0.030406</td>\n",
       "      <td>0.020702</td>\n",
       "      <td>0.002746</td>\n",
       "      <td>0.000477</td>\n",
       "      <td>0.1</td>\n",
       "      <td>None</td>\n",
       "      <td>newton-cg</td>\n",
       "      <td>{'C': 0.1, 'class_weight': None, 'solver': 'ne...</td>\n",
       "      <td>0.718310</td>\n",
       "      <td>0.683274</td>\n",
       "      <td>0.740741</td>\n",
       "      <td>0.738562</td>\n",
       "      <td>0.783784</td>\n",
       "      <td>0.732934</td>\n",
       "      <td>0.032736</td>\n",
       "      <td>87</td>\n",
       "    </tr>\n",
       "    <tr>\n",
       "      <th>1</th>\n",
       "      <td>0.012425</td>\n",
       "      <td>0.000925</td>\n",
       "      <td>0.002325</td>\n",
       "      <td>0.000102</td>\n",
       "      <td>0.1</td>\n",
       "      <td>None</td>\n",
       "      <td>lbfgs</td>\n",
       "      <td>{'C': 0.1, 'class_weight': None, 'solver': 'lb...</td>\n",
       "      <td>0.718310</td>\n",
       "      <td>0.683274</td>\n",
       "      <td>0.740741</td>\n",
       "      <td>0.738562</td>\n",
       "      <td>0.783784</td>\n",
       "      <td>0.732934</td>\n",
       "      <td>0.032736</td>\n",
       "      <td>87</td>\n",
       "    </tr>\n",
       "    <tr>\n",
       "      <th>2</th>\n",
       "      <td>0.008550</td>\n",
       "      <td>0.000625</td>\n",
       "      <td>0.002257</td>\n",
       "      <td>0.000074</td>\n",
       "      <td>0.1</td>\n",
       "      <td>None</td>\n",
       "      <td>liblinear</td>\n",
       "      <td>{'C': 0.1, 'class_weight': None, 'solver': 'li...</td>\n",
       "      <td>0.710801</td>\n",
       "      <td>0.692308</td>\n",
       "      <td>0.737864</td>\n",
       "      <td>0.745223</td>\n",
       "      <td>0.798658</td>\n",
       "      <td>0.736971</td>\n",
       "      <td>0.036204</td>\n",
       "      <td>86</td>\n",
       "    </tr>\n",
       "    <tr>\n",
       "      <th>3</th>\n",
       "      <td>0.012356</td>\n",
       "      <td>0.000923</td>\n",
       "      <td>0.002206</td>\n",
       "      <td>0.000018</td>\n",
       "      <td>0.1</td>\n",
       "      <td>None</td>\n",
       "      <td>sag</td>\n",
       "      <td>{'C': 0.1, 'class_weight': None, 'solver': 'sag'}</td>\n",
       "      <td>0.718310</td>\n",
       "      <td>0.683274</td>\n",
       "      <td>0.740741</td>\n",
       "      <td>0.738562</td>\n",
       "      <td>0.783784</td>\n",
       "      <td>0.732934</td>\n",
       "      <td>0.032736</td>\n",
       "      <td>87</td>\n",
       "    </tr>\n",
       "    <tr>\n",
       "      <th>4</th>\n",
       "      <td>0.019473</td>\n",
       "      <td>0.001675</td>\n",
       "      <td>0.002804</td>\n",
       "      <td>0.000753</td>\n",
       "      <td>0.1</td>\n",
       "      <td>None</td>\n",
       "      <td>saga</td>\n",
       "      <td>{'C': 0.1, 'class_weight': None, 'solver': 'sa...</td>\n",
       "      <td>0.718310</td>\n",
       "      <td>0.683274</td>\n",
       "      <td>0.740741</td>\n",
       "      <td>0.738562</td>\n",
       "      <td>0.783784</td>\n",
       "      <td>0.732934</td>\n",
       "      <td>0.032736</td>\n",
       "      <td>87</td>\n",
       "    </tr>\n",
       "    <tr>\n",
       "      <th>...</th>\n",
       "      <td>...</td>\n",
       "      <td>...</td>\n",
       "      <td>...</td>\n",
       "      <td>...</td>\n",
       "      <td>...</td>\n",
       "      <td>...</td>\n",
       "      <td>...</td>\n",
       "      <td>...</td>\n",
       "      <td>...</td>\n",
       "      <td>...</td>\n",
       "      <td>...</td>\n",
       "      <td>...</td>\n",
       "      <td>...</td>\n",
       "      <td>...</td>\n",
       "      <td>...</td>\n",
       "      <td>...</td>\n",
       "    </tr>\n",
       "    <tr>\n",
       "      <th>85</th>\n",
       "      <td>0.023086</td>\n",
       "      <td>0.001744</td>\n",
       "      <td>0.002569</td>\n",
       "      <td>0.000166</td>\n",
       "      <td>0.9</td>\n",
       "      <td>balanced</td>\n",
       "      <td>newton-cg</td>\n",
       "      <td>{'C': 0.9, 'class_weight': 'balanced', 'solver...</td>\n",
       "      <td>0.758782</td>\n",
       "      <td>0.760494</td>\n",
       "      <td>0.766990</td>\n",
       "      <td>0.763033</td>\n",
       "      <td>0.771930</td>\n",
       "      <td>0.764246</td>\n",
       "      <td>0.004732</td>\n",
       "      <td>39</td>\n",
       "    </tr>\n",
       "    <tr>\n",
       "      <th>86</th>\n",
       "      <td>0.015798</td>\n",
       "      <td>0.001107</td>\n",
       "      <td>0.002516</td>\n",
       "      <td>0.000062</td>\n",
       "      <td>0.9</td>\n",
       "      <td>balanced</td>\n",
       "      <td>lbfgs</td>\n",
       "      <td>{'C': 0.9, 'class_weight': 'balanced', 'solver...</td>\n",
       "      <td>0.760563</td>\n",
       "      <td>0.760494</td>\n",
       "      <td>0.766990</td>\n",
       "      <td>0.763033</td>\n",
       "      <td>0.771930</td>\n",
       "      <td>0.764602</td>\n",
       "      <td>0.004360</td>\n",
       "      <td>38</td>\n",
       "    </tr>\n",
       "    <tr>\n",
       "      <th>87</th>\n",
       "      <td>0.012381</td>\n",
       "      <td>0.000908</td>\n",
       "      <td>0.002685</td>\n",
       "      <td>0.000356</td>\n",
       "      <td>0.9</td>\n",
       "      <td>balanced</td>\n",
       "      <td>liblinear</td>\n",
       "      <td>{'C': 0.9, 'class_weight': 'balanced', 'solver...</td>\n",
       "      <td>0.760563</td>\n",
       "      <td>0.760494</td>\n",
       "      <td>0.768856</td>\n",
       "      <td>0.761229</td>\n",
       "      <td>0.771930</td>\n",
       "      <td>0.764615</td>\n",
       "      <td>0.004824</td>\n",
       "      <td>37</td>\n",
       "    </tr>\n",
       "    <tr>\n",
       "      <th>88</th>\n",
       "      <td>0.020985</td>\n",
       "      <td>0.001259</td>\n",
       "      <td>0.002775</td>\n",
       "      <td>0.000326</td>\n",
       "      <td>0.9</td>\n",
       "      <td>balanced</td>\n",
       "      <td>sag</td>\n",
       "      <td>{'C': 0.9, 'class_weight': 'balanced', 'solver...</td>\n",
       "      <td>0.758782</td>\n",
       "      <td>0.760494</td>\n",
       "      <td>0.766990</td>\n",
       "      <td>0.763033</td>\n",
       "      <td>0.771930</td>\n",
       "      <td>0.764246</td>\n",
       "      <td>0.004732</td>\n",
       "      <td>39</td>\n",
       "    </tr>\n",
       "    <tr>\n",
       "      <th>89</th>\n",
       "      <td>0.045036</td>\n",
       "      <td>0.003865</td>\n",
       "      <td>0.002805</td>\n",
       "      <td>0.000438</td>\n",
       "      <td>0.9</td>\n",
       "      <td>balanced</td>\n",
       "      <td>saga</td>\n",
       "      <td>{'C': 0.9, 'class_weight': 'balanced', 'solver...</td>\n",
       "      <td>0.758782</td>\n",
       "      <td>0.760494</td>\n",
       "      <td>0.766990</td>\n",
       "      <td>0.763033</td>\n",
       "      <td>0.771930</td>\n",
       "      <td>0.764246</td>\n",
       "      <td>0.004732</td>\n",
       "      <td>39</td>\n",
       "    </tr>\n",
       "  </tbody>\n",
       "</table>\n",
       "<p>90 rows × 16 columns</p>\n",
       "</div>"
      ],
      "text/plain": [
       "    mean_fit_time  std_fit_time  mean_score_time  std_score_time param_C  \\\n",
       "0        0.030406      0.020702         0.002746        0.000477     0.1   \n",
       "1        0.012425      0.000925         0.002325        0.000102     0.1   \n",
       "2        0.008550      0.000625         0.002257        0.000074     0.1   \n",
       "3        0.012356      0.000923         0.002206        0.000018     0.1   \n",
       "4        0.019473      0.001675         0.002804        0.000753     0.1   \n",
       "..            ...           ...              ...             ...     ...   \n",
       "85       0.023086      0.001744         0.002569        0.000166     0.9   \n",
       "86       0.015798      0.001107         0.002516        0.000062     0.9   \n",
       "87       0.012381      0.000908         0.002685        0.000356     0.9   \n",
       "88       0.020985      0.001259         0.002775        0.000326     0.9   \n",
       "89       0.045036      0.003865         0.002805        0.000438     0.9   \n",
       "\n",
       "   param_class_weight param_solver  \\\n",
       "0                None    newton-cg   \n",
       "1                None        lbfgs   \n",
       "2                None    liblinear   \n",
       "3                None          sag   \n",
       "4                None         saga   \n",
       "..                ...          ...   \n",
       "85           balanced    newton-cg   \n",
       "86           balanced        lbfgs   \n",
       "87           balanced    liblinear   \n",
       "88           balanced          sag   \n",
       "89           balanced         saga   \n",
       "\n",
       "                                               params  split0_test_score  \\\n",
       "0   {'C': 0.1, 'class_weight': None, 'solver': 'ne...           0.718310   \n",
       "1   {'C': 0.1, 'class_weight': None, 'solver': 'lb...           0.718310   \n",
       "2   {'C': 0.1, 'class_weight': None, 'solver': 'li...           0.710801   \n",
       "3   {'C': 0.1, 'class_weight': None, 'solver': 'sag'}           0.718310   \n",
       "4   {'C': 0.1, 'class_weight': None, 'solver': 'sa...           0.718310   \n",
       "..                                                ...                ...   \n",
       "85  {'C': 0.9, 'class_weight': 'balanced', 'solver...           0.758782   \n",
       "86  {'C': 0.9, 'class_weight': 'balanced', 'solver...           0.760563   \n",
       "87  {'C': 0.9, 'class_weight': 'balanced', 'solver...           0.760563   \n",
       "88  {'C': 0.9, 'class_weight': 'balanced', 'solver...           0.758782   \n",
       "89  {'C': 0.9, 'class_weight': 'balanced', 'solver...           0.758782   \n",
       "\n",
       "    split1_test_score  split2_test_score  split3_test_score  \\\n",
       "0            0.683274           0.740741           0.738562   \n",
       "1            0.683274           0.740741           0.738562   \n",
       "2            0.692308           0.737864           0.745223   \n",
       "3            0.683274           0.740741           0.738562   \n",
       "4            0.683274           0.740741           0.738562   \n",
       "..                ...                ...                ...   \n",
       "85           0.760494           0.766990           0.763033   \n",
       "86           0.760494           0.766990           0.763033   \n",
       "87           0.760494           0.768856           0.761229   \n",
       "88           0.760494           0.766990           0.763033   \n",
       "89           0.760494           0.766990           0.763033   \n",
       "\n",
       "    split4_test_score  mean_test_score  std_test_score  rank_test_score  \n",
       "0            0.783784         0.732934        0.032736               87  \n",
       "1            0.783784         0.732934        0.032736               87  \n",
       "2            0.798658         0.736971        0.036204               86  \n",
       "3            0.783784         0.732934        0.032736               87  \n",
       "4            0.783784         0.732934        0.032736               87  \n",
       "..                ...              ...             ...              ...  \n",
       "85           0.771930         0.764246        0.004732               39  \n",
       "86           0.771930         0.764602        0.004360               38  \n",
       "87           0.771930         0.764615        0.004824               37  \n",
       "88           0.771930         0.764246        0.004732               39  \n",
       "89           0.771930         0.764246        0.004732               39  \n",
       "\n",
       "[90 rows x 16 columns]"
      ]
     },
     "execution_count": 58,
     "metadata": {},
     "output_type": "execute_result"
    }
   ],
   "source": [
    "pd.DataFrame(clf_lr.cv_results_)"
   ]
  },
  {
   "cell_type": "markdown",
   "id": "clinical-seller",
   "metadata": {
    "scrolled": true
   },
   "source": [
    "print(classification_report(y_validation, clf_lr.predict(X_validation)))"
   ]
  },
  {
   "cell_type": "code",
   "execution_count": 23,
   "id": "bright-small",
   "metadata": {
    "scrolled": true
   },
   "outputs": [
    {
     "name": "stdout",
     "output_type": "stream",
     "text": [
      "              precision    recall  f1-score   support\n",
      "\n",
      "           0       0.98      0.93      0.95      4933\n",
      "           1       0.68      0.89      0.77       881\n",
      "\n",
      "    accuracy                           0.92      5814\n",
      "   macro avg       0.83      0.91      0.86      5814\n",
      "weighted avg       0.93      0.92      0.92      5814\n",
      "\n"
     ]
    }
   ],
   "source": [
    "print(classification_report(y_train, clf_lr.predict(X_train)))"
   ]
  },
  {
   "cell_type": "code",
   "execution_count": 24,
   "id": "cordless-immigration",
   "metadata": {},
   "outputs": [
    {
     "data": {
      "text/plain": [
       "array([[1504,  141],\n",
       "       [ 218,   76]])"
      ]
     },
     "execution_count": 24,
     "metadata": {},
     "output_type": "execute_result"
    }
   ],
   "source": [
    "confusion_matrix(y_validation, clf_lr.predict(X_validation))"
   ]
  },
  {
   "cell_type": "code",
   "execution_count": 25,
   "id": "strategic-nowhere",
   "metadata": {},
   "outputs": [
    {
     "data": {
      "text/plain": [
       "0.7290966234518124"
      ]
     },
     "execution_count": 25,
     "metadata": {},
     "output_type": "execute_result"
    }
   ],
   "source": [
    "roc_auc_score(y_validation, clf_lr.predict_proba(X_validation)[:,1])"
   ]
  },
  {
   "cell_type": "code",
   "execution_count": 26,
   "id": "streaming-terminal",
   "metadata": {},
   "outputs": [
    {
     "data": {
      "text/plain": [
       "Text(0, 0.5, 'tpr')"
      ]
     },
     "execution_count": 26,
     "metadata": {},
     "output_type": "execute_result"
    },
    {
     "data": {
      "image/png": "[encoded data removed]",
      "text/plain": [
       "<Figure size 432x288 with 1 Axes>"
      ]
     },
     "metadata": {
      "needs_background": "light"
     },
     "output_type": "display_data"
    }
   ],
   "source": [
    "fpr, tpr, thresold = roc_curve(y_validation, clf_lr.predict_proba(X_validation)[:,1])\n",
    "plt.plot(fpr, tpr);\n",
    "plt.xlabel('fpr')\n",
    "plt.ylabel('tpr')"
   ]
  },
  {
   "cell_type": "code",
   "execution_count": 27,
   "id": "driven-administrator",
   "metadata": {},
   "outputs": [
    {
     "data": {
      "text/plain": [
       "array([[ 1.36693056,  6.90515738,  0.97194767,  0.04639562,  0.17892758,\n",
       "        -0.03727118,  0.02120761, -0.29932815,  0.03168767,  0.10183835]])"
      ]
     },
     "execution_count": 27,
     "metadata": {},
     "output_type": "execute_result"
    }
   ],
   "source": [
    "(clf_lr.best_estimator_.coef_)"
   ]
  },
  {
   "cell_type": "code",
   "execution_count": 28,
   "id": "quick-pioneer",
   "metadata": {
    "scrolled": true
   },
   "outputs": [
    {
     "data": {
      "text/plain": [
       "<BarContainer object of 10 artists>"
      ]
     },
     "execution_count": 28,
     "metadata": {},
     "output_type": "execute_result"
    },
    {
     "data": {
      "image/png": "[encoded data removed]",
      "text/plain": [
       "<Figure size 432x288 with 1 Axes>"
      ]
     },
     "metadata": {
      "needs_background": "light"
     },
     "output_type": "display_data"
    }
   ],
   "source": [
    "plt.barh(columns,clf_lr.best_estimator_.coef_[0])"
   ]
  },
  {
   "cell_type": "code",
   "execution_count": 29,
   "id": "prerequisite-entertainment",
   "metadata": {},
   "outputs": [
    {
     "data": {
      "text/plain": [
       "GridSearchCV(estimator=LogisticRegression(class_weight='balanced',\n",
       "                                          max_iter=1000),\n",
       "             param_grid={'C': array([0.1, 0.2, 0.3, 0.4, 0.5, 0.6, 0.7, 0.8, 0.9]),\n",
       "                         'solver': ['newton-cg', 'lbfgs', 'liblinear', 'sag',\n",
       "                                    'saga']})"
      ]
     },
     "execution_count": 29,
     "metadata": {},
     "output_type": "execute_result"
    }
   ],
   "source": [
    "clf_lrb = GridSearchCV(LogisticRegression(max_iter=1000, class_weight='balanced'),\n",
    "                     param_grid={\"solver\":['newton-cg', 'lbfgs', 'liblinear', 'sag', 'saga'],\n",
    "                                'C': np.arange(0.1, 1, .1)})\n",
    "clf_lrb.fit(X_train, y_train)"
   ]
  },
  {
   "cell_type": "code",
   "execution_count": 30,
   "id": "egyptian-spare",
   "metadata": {},
   "outputs": [
    {
     "data": {
      "text/plain": [
       "{'C': 0.1, 'solver': 'newton-cg'}"
      ]
     },
     "execution_count": 30,
     "metadata": {},
     "output_type": "execute_result"
    }
   ],
   "source": [
    "clf_lrb.best_params_"
   ]
  },
  {
   "cell_type": "code",
   "execution_count": 31,
   "id": "detailed-entrance",
   "metadata": {
    "scrolled": false
   },
   "outputs": [
    {
     "name": "stdout",
     "output_type": "stream",
     "text": [
      "              precision    recall  f1-score   support\n",
      "\n",
      "           0       0.87      0.91      0.89      1645\n",
      "           1       0.35      0.26      0.30       294\n",
      "\n",
      "    accuracy                           0.81      1939\n",
      "   macro avg       0.61      0.59      0.60      1939\n",
      "weighted avg       0.79      0.81      0.80      1939\n",
      "\n"
     ]
    }
   ],
   "source": [
    "print(classification_report(y_validation, clf_lrb.predict(X_validation)))"
   ]
  },
  {
   "cell_type": "code",
   "execution_count": 32,
   "id": "bulgarian-furniture",
   "metadata": {
    "scrolled": false
   },
   "outputs": [
    {
     "name": "stdout",
     "output_type": "stream",
     "text": [
      "              precision    recall  f1-score   support\n",
      "\n",
      "           0       0.98      0.93      0.95      4933\n",
      "           1       0.68      0.89      0.77       881\n",
      "\n",
      "    accuracy                           0.92      5814\n",
      "   macro avg       0.83      0.91      0.86      5814\n",
      "weighted avg       0.93      0.92      0.92      5814\n",
      "\n"
     ]
    }
   ],
   "source": [
    "print(classification_report(y_train, clf_lrb.predict(X_train)))"
   ]
  },
  {
   "cell_type": "code",
   "execution_count": 33,
   "id": "incoming-chancellor",
   "metadata": {},
   "outputs": [
    {
     "data": {
      "text/plain": [
       "array([[1504,  141],\n",
       "       [ 218,   76]])"
      ]
     },
     "execution_count": 33,
     "metadata": {},
     "output_type": "execute_result"
    }
   ],
   "source": [
    "confusion_matrix(y_validation, clf_lrb.predict(X_validation))"
   ]
  },
  {
   "cell_type": "code",
   "execution_count": 34,
   "id": "criminal-prevention",
   "metadata": {},
   "outputs": [
    {
     "data": {
      "text/plain": [
       "0.7290966234518124"
      ]
     },
     "execution_count": 34,
     "metadata": {},
     "output_type": "execute_result"
    }
   ],
   "source": [
    "roc_auc_score(y_validation, clf_lrb.predict_proba(X_validation)[:,1])"
   ]
  },
  {
   "cell_type": "code",
   "execution_count": 35,
   "id": "assured-lover",
   "metadata": {},
   "outputs": [
    {
     "data": {
      "text/plain": [
       "Text(0, 0.5, 'tpr')"
      ]
     },
     "execution_count": 35,
     "metadata": {},
     "output_type": "execute_result"
    },
    {
     "data": {
      "image/png": "[encoded data removed]",
      "text/plain": [
       "<Figure size 432x288 with 1 Axes>"
      ]
     },
     "metadata": {
      "needs_background": "light"
     },
     "output_type": "display_data"
    }
   ],
   "source": [
    "fpr, tpr, thresold = roc_curve(y_validation, clf_lrb.predict_proba(X_validation)[:,1])\n",
    "plt.plot(fpr, tpr);\n",
    "plt.xlabel('fpr')\n",
    "plt.ylabel('tpr')"
   ]
  },
  {
   "cell_type": "code",
   "execution_count": 36,
   "id": "convinced-partnership",
   "metadata": {},
   "outputs": [
    {
     "data": {
      "text/plain": [
       "array([[ 1.36693056,  6.90515738,  0.97194767,  0.04639562,  0.17892758,\n",
       "        -0.03727118,  0.02120761, -0.29932815,  0.03168767,  0.10183835]])"
      ]
     },
     "execution_count": 36,
     "metadata": {},
     "output_type": "execute_result"
    }
   ],
   "source": [
    "(clf_lr.best_estimator_.coef_)"
   ]
  },
  {
   "cell_type": "code",
   "execution_count": 37,
   "id": "processed-blair",
   "metadata": {},
   "outputs": [
    {
     "data": {
      "text/plain": [
       "<BarContainer object of 10 artists>"
      ]
     },
     "execution_count": 37,
     "metadata": {},
     "output_type": "execute_result"
    },
    {
     "data": {
      "image/png": "[encoded data removed]",
      "text/plain": [
       "<Figure size 432x288 with 1 Axes>"
      ]
     },
     "metadata": {
      "needs_background": "light"
     },
     "output_type": "display_data"
    }
   ],
   "source": [
    "plt.barh(columns,clf_lrb.best_estimator_.coef_[0])"
   ]
  },
  {
   "cell_type": "code",
   "execution_count": 38,
   "id": "social-thong",
   "metadata": {},
   "outputs": [],
   "source": [
    "RandomForestClassifier?"
   ]
  },
  {
   "cell_type": "code",
   "execution_count": 39,
   "id": "portable-facial",
   "metadata": {},
   "outputs": [
    {
     "data": {
      "text/plain": [
       "GridSearchCV(estimator=RandomForestClassifier(),\n",
       "             param_grid={'class_weight': [None, 'balanced'],\n",
       "                         'criterion': ['gini', 'entropy']})"
      ]
     },
     "execution_count": 39,
     "metadata": {},
     "output_type": "execute_result"
    }
   ],
   "source": [
    "clf_rf = GridSearchCV(RandomForestClassifier(),\n",
    "                     param_grid={\"class_weight\":[None, 'balanced'],\n",
    "                                \"criterion\":['gini', 'entropy']})\n",
    "clf_rf.fit(X_train, y_train)"
   ]
  },
  {
   "cell_type": "code",
   "execution_count": 40,
   "id": "genetic-freedom",
   "metadata": {},
   "outputs": [
    {
     "data": {
      "text/plain": [
       "{'class_weight': None, 'criterion': 'entropy'}"
      ]
     },
     "execution_count": 40,
     "metadata": {},
     "output_type": "execute_result"
    }
   ],
   "source": [
    "clf_rf.best_params_"
   ]
  },
  {
   "cell_type": "code",
   "execution_count": 41,
   "id": "guilty-spouse",
   "metadata": {
    "scrolled": true
   },
   "outputs": [
    {
     "name": "stdout",
     "output_type": "stream",
     "text": [
      "              precision    recall  f1-score   support\n",
      "\n",
      "           0       0.87      0.95      0.91      1645\n",
      "           1       0.44      0.20      0.28       294\n",
      "\n",
      "    accuracy                           0.84      1939\n",
      "   macro avg       0.66      0.58      0.59      1939\n",
      "weighted avg       0.80      0.84      0.81      1939\n",
      "\n"
     ]
    }
   ],
   "source": [
    "print(classification_report(y_validation, clf_rf.predict(X_validation)))"
   ]
  },
  {
   "cell_type": "code",
   "execution_count": 42,
   "id": "forward-split",
   "metadata": {
    "scrolled": true
   },
   "outputs": [
    {
     "data": {
      "text/plain": [
       "array([[1570,   75],\n",
       "       [ 235,   59]])"
      ]
     },
     "execution_count": 42,
     "metadata": {},
     "output_type": "execute_result"
    }
   ],
   "source": [
    "confusion_matrix(y_validation, clf_rf.predict(X_validation))"
   ]
  },
  {
   "cell_type": "code",
   "execution_count": 43,
   "id": "revolutionary-worcester",
   "metadata": {
    "scrolled": true
   },
   "outputs": [
    {
     "data": {
      "text/plain": [
       "0.6535667762545748"
      ]
     },
     "execution_count": 43,
     "metadata": {},
     "output_type": "execute_result"
    }
   ],
   "source": [
    "roc_auc_score(y_validation, clf_rf.predict_proba(X_validation)[:,1])"
   ]
  },
  {
   "cell_type": "code",
   "execution_count": 44,
   "id": "rational-birth",
   "metadata": {},
   "outputs": [
    {
     "data": {
      "text/plain": [
       "Text(0, 0.5, 'tpr')"
      ]
     },
     "execution_count": 44,
     "metadata": {},
     "output_type": "execute_result"
    },
    {
     "data": {
      "image/png": "[encoded data removed]",
      "text/plain": [
       "<Figure size 432x288 with 1 Axes>"
      ]
     },
     "metadata": {
      "needs_background": "light"
     },
     "output_type": "display_data"
    }
   ],
   "source": [
    "fpr, tpr, thresold = roc_curve(y_validation, clf_rf.predict_proba(X_validation)[:,1])\n",
    "plt.plot(fpr, tpr);\n",
    "plt.xlabel('fpr')\n",
    "plt.ylabel('tpr')"
   ]
  },
  {
   "cell_type": "code",
   "execution_count": 45,
   "id": "collectible-theta",
   "metadata": {},
   "outputs": [
    {
     "data": {
      "text/plain": [
       "GridSearchCV(estimator=RandomForestClassifier(class_weight='balanced'),\n",
       "             param_grid={'criterion': ['gini', 'entropy']})"
      ]
     },
     "execution_count": 45,
     "metadata": {},
     "output_type": "execute_result"
    }
   ],
   "source": [
    "clf_rfb = GridSearchCV(RandomForestClassifier(class_weight='balanced'),\n",
    "                     param_grid={\"criterion\":['gini', 'entropy']})\n",
    "clf_rfb.fit(X_train, y_train)"
   ]
  },
  {
   "cell_type": "code",
   "execution_count": 46,
   "id": "visible-vacation",
   "metadata": {},
   "outputs": [
    {
     "data": {
      "text/plain": [
       "{'criterion': 'gini'}"
      ]
     },
     "execution_count": 46,
     "metadata": {},
     "output_type": "execute_result"
    }
   ],
   "source": [
    "clf_rfb.best_params_"
   ]
  },
  {
   "cell_type": "code",
   "execution_count": 47,
   "id": "desirable-silly",
   "metadata": {},
   "outputs": [
    {
     "name": "stdout",
     "output_type": "stream",
     "text": [
      "              precision    recall  f1-score   support\n",
      "\n",
      "           0       0.87      0.96      0.91      1645\n",
      "           1       0.43      0.18      0.25       294\n",
      "\n",
      "    accuracy                           0.84      1939\n",
      "   macro avg       0.65      0.57      0.58      1939\n",
      "weighted avg       0.80      0.84      0.81      1939\n",
      "\n"
     ]
    }
   ],
   "source": [
    "print(classification_report(y_validation, clf_rfb.predict(X_validation)))"
   ]
  },
  {
   "cell_type": "code",
   "execution_count": 48,
   "id": "solved-knight",
   "metadata": {},
   "outputs": [
    {
     "data": {
      "text/plain": [
       "array([[1576,   69],\n",
       "       [ 241,   53]])"
      ]
     },
     "execution_count": 48,
     "metadata": {},
     "output_type": "execute_result"
    }
   ],
   "source": [
    "confusion_matrix(y_validation, clf_rfb.predict(X_validation))"
   ]
  },
  {
   "cell_type": "code",
   "execution_count": 49,
   "id": "concrete-sender",
   "metadata": {},
   "outputs": [
    {
     "data": {
      "text/plain": [
       "0.6275220726588507"
      ]
     },
     "execution_count": 49,
     "metadata": {},
     "output_type": "execute_result"
    }
   ],
   "source": [
    "roc_auc_score(y_validation, clf_rfb.predict_proba(X_validation)[:,1])"
   ]
  },
  {
   "cell_type": "code",
   "execution_count": 50,
   "id": "common-parking",
   "metadata": {
    "scrolled": true
   },
   "outputs": [
    {
     "data": {
      "text/plain": [
       "Text(0, 0.5, 'tpr')"
      ]
     },
     "execution_count": 50,
     "metadata": {},
     "output_type": "execute_result"
    },
    {
     "data": {
      "image/png": "[encoded data removed]",
      "text/plain": [
       "<Figure size 432x288 with 1 Axes>"
      ]
     },
     "metadata": {
      "needs_background": "light"
     },
     "output_type": "display_data"
    }
   ],
   "source": [
    "fpr, tpr, thresold = roc_curve(y_validation, clf_rfb.predict_proba(X_validation)[:,1])\n",
    "plt.plot(fpr, tpr);\n",
    "plt.xlabel('fpr')\n",
    "plt.ylabel('tpr')"
   ]
  },
  {
   "cell_type": "code",
   "execution_count": 51,
   "id": "built-twelve",
   "metadata": {},
   "outputs": [],
   "source": [
    "KNeighborsClassifier?"
   ]
  },
  {
   "cell_type": "code",
   "execution_count": 52,
   "id": "respiratory-struggle",
   "metadata": {},
   "outputs": [
    {
     "data": {
      "text/plain": [
       "GridSearchCV(estimator=KNeighborsClassifier(),\n",
       "             param_grid={'n_neighbors': array([ 2,  3,  4,  5,  6,  7,  8,  9, 10, 11, 12, 13, 14, 15, 16, 17, 18,\n",
       "       19, 20, 21, 22, 23, 24, 25, 26, 27, 28, 29, 30, 31, 32, 33, 34, 35,\n",
       "       36, 37, 38, 39, 40, 41, 42, 43, 44, 45, 46, 47, 48, 49]),\n",
       "                         'weights': ['uniform', 'distance']},\n",
       "             scoring='f1')"
      ]
     },
     "execution_count": 52,
     "metadata": {},
     "output_type": "execute_result"
    }
   ],
   "source": [
    "clf_kn = GridSearchCV(KNeighborsClassifier(),\n",
    "                     param_grid={'n_neighbors': np.arange(2, 50, 1),\n",
    "                                 'weights' : ['uniform', 'distance']},\n",
    "                     scoring='f1')\n",
    "clf_kn.fit(X_train, y_train)"
   ]
  },
  {
   "cell_type": "code",
   "execution_count": 53,
   "id": "steady-steering",
   "metadata": {},
   "outputs": [
    {
     "data": {
      "text/plain": [
       "{'n_neighbors': 10, 'weights': 'distance'}"
      ]
     },
     "execution_count": 53,
     "metadata": {},
     "output_type": "execute_result"
    }
   ],
   "source": [
    "clf_kn.best_params_"
   ]
  },
  {
   "cell_type": "code",
   "execution_count": 54,
   "id": "practical-august",
   "metadata": {},
   "outputs": [
    {
     "name": "stdout",
     "output_type": "stream",
     "text": [
      "              precision    recall  f1-score   support\n",
      "\n",
      "           0       0.86      0.97      0.91      1645\n",
      "           1       0.44      0.13      0.20       294\n",
      "\n",
      "    accuracy                           0.84      1939\n",
      "   macro avg       0.65      0.55      0.55      1939\n",
      "weighted avg       0.80      0.84      0.80      1939\n",
      "\n"
     ]
    }
   ],
   "source": [
    "print(classification_report(y_validation, clf_kn.predict(X_validation)))"
   ]
  },
  {
   "cell_type": "code",
   "execution_count": 55,
   "id": "infectious-portal",
   "metadata": {},
   "outputs": [
    {
     "data": {
      "text/plain": [
       "array([[1597,   48],\n",
       "       [ 257,   37]])"
      ]
     },
     "execution_count": 55,
     "metadata": {},
     "output_type": "execute_result"
    }
   ],
   "source": [
    "confusion_matrix(y_validation, clf_kn.predict(X_validation))"
   ]
  },
  {
   "cell_type": "code",
   "execution_count": 56,
   "id": "arbitrary-velvet",
   "metadata": {},
   "outputs": [
    {
     "data": {
      "text/plain": [
       "0.6342348489547794"
      ]
     },
     "execution_count": 56,
     "metadata": {},
     "output_type": "execute_result"
    }
   ],
   "source": [
    "roc_auc_score(y_validation, clf_kn.predict_proba(X_validation)[:,1])"
   ]
  },
  {
   "cell_type": "code",
   "execution_count": 57,
   "id": "vietnamese-borough",
   "metadata": {},
   "outputs": [
    {
     "data": {
      "text/plain": [
       "Text(0, 0.5, 'tpr')"
      ]
     },
     "execution_count": 57,
     "metadata": {},
     "output_type": "execute_result"
    },
    {
     "data": {
      "image/png": "[encoded data removed]",
      "text/plain": [
       "<Figure size 432x288 with 1 Axes>"
      ]
     },
     "metadata": {
      "needs_background": "light"
     },
     "output_type": "display_data"
    }
   ],
   "source": [
    "fpr, tpr, thresold = roc_curve(y_validation, clf_kn.predict_proba(X_validation)[:,1])\n",
    "plt.plot(fpr, tpr);\n",
    "plt.xlabel('fpr')\n",
    "plt.ylabel('tpr')"
   ]
  },
  {
   "cell_type": "code",
   "execution_count": null,
   "id": "heard-black",
   "metadata": {},
   "outputs": [],
   "source": []
  }
 ],
 "metadata": {
  "kernelspec": {
   "display_name": "Python 3",
   "language": "python",
   "name": "python3"
  },
  "language_info": {
   "codemirror_mode": {
    "name": "ipython",
    "version": 3
   },
   "file_extension": ".py",
   "mimetype": "text/x-python",
   "name": "python",
   "nbconvert_exporter": "python",
   "pygments_lexer": "ipython3",
   "version": "3.8.5"
  }
 },
 "nbformat": 4,
 "nbformat_minor": 5
}
