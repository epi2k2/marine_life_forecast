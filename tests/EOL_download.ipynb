{
 "cells": [
  {
   "cell_type": "code",
   "execution_count": 125,
   "id": "ambient-navigator",
   "metadata": {},
   "outputs": [],
   "source": [
    "import requests\n",
    "import pandas as pd\n",
    "pd.options.display.max_columns = None"
   ]
  },
  {
   "cell_type": "code",
   "execution_count": 112,
   "id": "meaning-sending",
   "metadata": {},
   "outputs": [
    {
     "name": "stderr",
     "output_type": "stream",
     "text": [
      "/home/davidgp/anaconda3/envs/malif/lib/python3.8/site-packages/IPython/core/interactiveshell.py:3155: DtypeWarning: Columns (198,237) have mixed types.Specify dtype option on import or set low_memory=False.\n",
      "  has_raised = await self.run_ast_nodes(code_ast.body, cell_name,\n"
     ]
    }
   ],
   "source": [
    "df = pd.read_csv('./data/occurrence.txt', sep='\\t')"
   ]
  },
  {
   "cell_type": "code",
   "execution_count": 140,
   "id": "adaptive-locator",
   "metadata": {},
   "outputs": [],
   "source": [
    "df = df[df['kingdom'] == 'Animalia']\n",
    "df_order = df[['order']].drop_duplicates().dropna()\n",
    "df_family = df[['family']].drop_duplicates().dropna()\n",
    "df_genus = df[['genus']].drop_duplicates().dropna()"
   ]
  },
  {
   "cell_type": "code",
   "execution_count": 143,
   "id": "colonial-smile",
   "metadata": {},
   "outputs": [
    {
     "data": {
      "text/html": [
       "<div>\n",
       "<style scoped>\n",
       "    .dataframe tbody tr th:only-of-type {\n",
       "        vertical-align: middle;\n",
       "    }\n",
       "\n",
       "    .dataframe tbody tr th {\n",
       "        vertical-align: top;\n",
       "    }\n",
       "\n",
       "    .dataframe thead th {\n",
       "        text-align: right;\n",
       "    }\n",
       "</style>\n",
       "<table border=\"1\" class=\"dataframe\">\n",
       "  <thead>\n",
       "    <tr style=\"text-align: right;\">\n",
       "      <th></th>\n",
       "      <th>order</th>\n",
       "    </tr>\n",
       "  </thead>\n",
       "  <tbody>\n",
       "    <tr>\n",
       "      <th>0</th>\n",
       "      <td>Tetraodontiformes</td>\n",
       "    </tr>\n",
       "    <tr>\n",
       "      <th>1</th>\n",
       "      <td>Perciformes</td>\n",
       "    </tr>\n",
       "    <tr>\n",
       "      <th>2</th>\n",
       "      <td>Anguilliformes</td>\n",
       "    </tr>\n",
       "    <tr>\n",
       "      <th>4</th>\n",
       "      <td>Nudibranchia</td>\n",
       "    </tr>\n",
       "    <tr>\n",
       "      <th>5</th>\n",
       "      <td>Carcharhiniformes</td>\n",
       "    </tr>\n",
       "  </tbody>\n",
       "</table>\n",
       "</div>"
      ],
      "text/plain": [
       "               order\n",
       "0  Tetraodontiformes\n",
       "1        Perciformes\n",
       "2     Anguilliformes\n",
       "4       Nudibranchia\n",
       "5  Carcharhiniformes"
      ]
     },
     "execution_count": 143,
     "metadata": {},
     "output_type": "execute_result"
    }
   ],
   "source": [
    "df_order.head()"
   ]
  },
  {
   "cell_type": "code",
   "execution_count": 144,
   "id": "danish-characteristic",
   "metadata": {},
   "outputs": [
    {
     "data": {
      "text/html": [
       "<div>\n",
       "<style scoped>\n",
       "    .dataframe tbody tr th:only-of-type {\n",
       "        vertical-align: middle;\n",
       "    }\n",
       "\n",
       "    .dataframe tbody tr th {\n",
       "        vertical-align: top;\n",
       "    }\n",
       "\n",
       "    .dataframe thead th {\n",
       "        text-align: right;\n",
       "    }\n",
       "</style>\n",
       "<table border=\"1\" class=\"dataframe\">\n",
       "  <thead>\n",
       "    <tr style=\"text-align: right;\">\n",
       "      <th></th>\n",
       "      <th>family</th>\n",
       "    </tr>\n",
       "  </thead>\n",
       "  <tbody>\n",
       "    <tr>\n",
       "      <th>0</th>\n",
       "      <td>Ostraciidae</td>\n",
       "    </tr>\n",
       "    <tr>\n",
       "      <th>1</th>\n",
       "      <td>Pomacentridae</td>\n",
       "    </tr>\n",
       "    <tr>\n",
       "      <th>2</th>\n",
       "      <td>Muraenidae</td>\n",
       "    </tr>\n",
       "    <tr>\n",
       "      <th>4</th>\n",
       "      <td>Chromodorididae</td>\n",
       "    </tr>\n",
       "    <tr>\n",
       "      <th>5</th>\n",
       "      <td>Carcharhinidae</td>\n",
       "    </tr>\n",
       "  </tbody>\n",
       "</table>\n",
       "</div>"
      ],
      "text/plain": [
       "            family\n",
       "0      Ostraciidae\n",
       "1    Pomacentridae\n",
       "2       Muraenidae\n",
       "4  Chromodorididae\n",
       "5   Carcharhinidae"
      ]
     },
     "execution_count": 144,
     "metadata": {},
     "output_type": "execute_result"
    }
   ],
   "source": [
    "df_family.head()"
   ]
  },
  {
   "cell_type": "code",
   "execution_count": 146,
   "id": "domestic-player",
   "metadata": {},
   "outputs": [
    {
     "data": {
      "text/html": [
       "<div>\n",
       "<style scoped>\n",
       "    .dataframe tbody tr th:only-of-type {\n",
       "        vertical-align: middle;\n",
       "    }\n",
       "\n",
       "    .dataframe tbody tr th {\n",
       "        vertical-align: top;\n",
       "    }\n",
       "\n",
       "    .dataframe thead th {\n",
       "        text-align: right;\n",
       "    }\n",
       "</style>\n",
       "<table border=\"1\" class=\"dataframe\">\n",
       "  <thead>\n",
       "    <tr style=\"text-align: right;\">\n",
       "      <th></th>\n",
       "      <th>genus</th>\n",
       "    </tr>\n",
       "  </thead>\n",
       "  <tbody>\n",
       "    <tr>\n",
       "      <th>0</th>\n",
       "      <td>Ostracion</td>\n",
       "    </tr>\n",
       "    <tr>\n",
       "      <th>1</th>\n",
       "      <td>Stegastes</td>\n",
       "    </tr>\n",
       "    <tr>\n",
       "      <th>2</th>\n",
       "      <td>Pseudechidna</td>\n",
       "    </tr>\n",
       "    <tr>\n",
       "      <th>3</th>\n",
       "      <td>Gymnothorax</td>\n",
       "    </tr>\n",
       "    <tr>\n",
       "      <th>4</th>\n",
       "      <td>Chromodoris</td>\n",
       "    </tr>\n",
       "  </tbody>\n",
       "</table>\n",
       "</div>"
      ],
      "text/plain": [
       "          genus\n",
       "0     Ostracion\n",
       "1     Stegastes\n",
       "2  Pseudechidna\n",
       "3   Gymnothorax\n",
       "4   Chromodoris"
      ]
     },
     "execution_count": 146,
     "metadata": {},
     "output_type": "execute_result"
    }
   ],
   "source": [
    "df_genus.head()"
   ]
  },
  {
   "cell_type": "code",
   "execution_count": 116,
   "id": "chronic-color",
   "metadata": {},
   "outputs": [],
   "source": [
    "def get_id(taxon):\n",
    "    query = \"https://eol.org/api/search/1.0.json?q=\" + taxon\n",
    "    request = requests.get(query)\n",
    "    results = request.json()['results']\n",
    "    for i in range(len(results)):\n",
    "        if results[i]['title'] == taxon:\n",
    "            return int(results[i]['id'])"
   ]
  },
  {
   "cell_type": "code",
   "execution_count": 154,
   "id": "overall-consumer",
   "metadata": {},
   "outputs": [],
   "source": [
    "df_order['id_order_eol'] = df_order['order'].apply(get_id)"
   ]
  },
  {
   "cell_type": "code",
   "execution_count": 117,
   "id": "dirty-therapist",
   "metadata": {},
   "outputs": [],
   "source": [
    "df_family['id_family_eol'] = df_family['family'].apply(get_id)"
   ]
  },
  {
   "cell_type": "code",
   "execution_count": 149,
   "id": "transsexual-slope",
   "metadata": {},
   "outputs": [],
   "source": [
    "df_genus['id_genus_eol'] = df_genus['genus'].apply(get_id)"
   ]
  },
  {
   "cell_type": "code",
   "execution_count": 155,
   "id": "inclusive-airplane",
   "metadata": {
    "scrolled": true
   },
   "outputs": [
    {
     "data": {
      "text/plain": [
       "0"
      ]
     },
     "execution_count": 155,
     "metadata": {},
     "output_type": "execute_result"
    }
   ],
   "source": [
    "df_order['id_order_eol'].isna().sum()"
   ]
  },
  {
   "cell_type": "code",
   "execution_count": 156,
   "id": "lined-memphis",
   "metadata": {
    "scrolled": true
   },
   "outputs": [
    {
     "data": {
      "text/html": [
       "<div>\n",
       "<style scoped>\n",
       "    .dataframe tbody tr th:only-of-type {\n",
       "        vertical-align: middle;\n",
       "    }\n",
       "\n",
       "    .dataframe tbody tr th {\n",
       "        vertical-align: top;\n",
       "    }\n",
       "\n",
       "    .dataframe thead th {\n",
       "        text-align: right;\n",
       "    }\n",
       "</style>\n",
       "<table border=\"1\" class=\"dataframe\">\n",
       "  <thead>\n",
       "    <tr style=\"text-align: right;\">\n",
       "      <th></th>\n",
       "      <th>order</th>\n",
       "      <th>id_order_eol</th>\n",
       "    </tr>\n",
       "  </thead>\n",
       "  <tbody>\n",
       "  </tbody>\n",
       "</table>\n",
       "</div>"
      ],
      "text/plain": [
       "Empty DataFrame\n",
       "Columns: [order, id_order_eol]\n",
       "Index: []"
      ]
     },
     "execution_count": 156,
     "metadata": {},
     "output_type": "execute_result"
    }
   ],
   "source": [
    "df_order[df_order['id_order_eol'].isna()]"
   ]
  },
  {
   "cell_type": "code",
   "execution_count": 127,
   "id": "sustainable-failure",
   "metadata": {},
   "outputs": [
    {
     "data": {
      "text/plain": [
       "1"
      ]
     },
     "execution_count": 127,
     "metadata": {},
     "output_type": "execute_result"
    }
   ],
   "source": [
    "df_family['id_family_eol'].isna().sum()"
   ]
  },
  {
   "cell_type": "code",
   "execution_count": 123,
   "id": "toxic-annotation",
   "metadata": {
    "scrolled": true
   },
   "outputs": [
    {
     "data": {
      "text/html": [
       "<div>\n",
       "<style scoped>\n",
       "    .dataframe tbody tr th:only-of-type {\n",
       "        vertical-align: middle;\n",
       "    }\n",
       "\n",
       "    .dataframe tbody tr th {\n",
       "        vertical-align: top;\n",
       "    }\n",
       "\n",
       "    .dataframe thead th {\n",
       "        text-align: right;\n",
       "    }\n",
       "</style>\n",
       "<table border=\"1\" class=\"dataframe\">\n",
       "  <thead>\n",
       "    <tr style=\"text-align: right;\">\n",
       "      <th></th>\n",
       "      <th>family</th>\n",
       "      <th>id_family_eol</th>\n",
       "    </tr>\n",
       "  </thead>\n",
       "  <tbody>\n",
       "    <tr>\n",
       "      <th>18440</th>\n",
       "      <td>Cassidae</td>\n",
       "      <td>NaN</td>\n",
       "    </tr>\n",
       "  </tbody>\n",
       "</table>\n",
       "</div>"
      ],
      "text/plain": [
       "         family  id_family_eol\n",
       "18440  Cassidae            NaN"
      ]
     },
     "execution_count": 123,
     "metadata": {},
     "output_type": "execute_result"
    }
   ],
   "source": [
    "df_family[df_family['id_family_eol'].isna()]"
   ]
  },
  {
   "cell_type": "code",
   "execution_count": 153,
   "id": "computational-trading",
   "metadata": {},
   "outputs": [
    {
     "data": {
      "text/plain": [
       "(639, 1)"
      ]
     },
     "execution_count": 153,
     "metadata": {},
     "output_type": "execute_result"
    }
   ],
   "source": [
    "df_family.dropna(inplace=True)\n",
    "df_family.shape"
   ]
  },
  {
   "cell_type": "code",
   "execution_count": 150,
   "id": "young-jesus",
   "metadata": {},
   "outputs": [
    {
     "data": {
      "text/plain": [
       "4"
      ]
     },
     "execution_count": 150,
     "metadata": {},
     "output_type": "execute_result"
    }
   ],
   "source": [
    "df_genus['id_genus_eol'].isna().sum()"
   ]
  },
  {
   "cell_type": "code",
   "execution_count": 151,
   "id": "eastern-pioneer",
   "metadata": {},
   "outputs": [
    {
     "data": {
      "text/html": [
       "<div>\n",
       "<style scoped>\n",
       "    .dataframe tbody tr th:only-of-type {\n",
       "        vertical-align: middle;\n",
       "    }\n",
       "\n",
       "    .dataframe tbody tr th {\n",
       "        vertical-align: top;\n",
       "    }\n",
       "\n",
       "    .dataframe thead th {\n",
       "        text-align: right;\n",
       "    }\n",
       "</style>\n",
       "<table border=\"1\" class=\"dataframe\">\n",
       "  <thead>\n",
       "    <tr style=\"text-align: right;\">\n",
       "      <th></th>\n",
       "      <th>genus</th>\n",
       "      <th>id_genus_eol</th>\n",
       "    </tr>\n",
       "  </thead>\n",
       "  <tbody>\n",
       "    <tr>\n",
       "      <th>127</th>\n",
       "      <td>Periclimenes</td>\n",
       "      <td>NaN</td>\n",
       "    </tr>\n",
       "    <tr>\n",
       "      <th>3051</th>\n",
       "      <td>Orconectes</td>\n",
       "      <td>NaN</td>\n",
       "    </tr>\n",
       "    <tr>\n",
       "      <th>11659</th>\n",
       "      <td>Labeo</td>\n",
       "      <td>NaN</td>\n",
       "    </tr>\n",
       "    <tr>\n",
       "      <th>31025</th>\n",
       "      <td>Plesionika</td>\n",
       "      <td>NaN</td>\n",
       "    </tr>\n",
       "  </tbody>\n",
       "</table>\n",
       "</div>"
      ],
      "text/plain": [
       "              genus  id_genus_eol\n",
       "127    Periclimenes           NaN\n",
       "3051     Orconectes           NaN\n",
       "11659         Labeo           NaN\n",
       "31025    Plesionika           NaN"
      ]
     },
     "execution_count": 151,
     "metadata": {},
     "output_type": "execute_result"
    }
   ],
   "source": [
    "df_genus[df_genus['id_genus_eol'].isna()]"
   ]
  },
  {
   "cell_type": "code",
   "execution_count": 152,
   "id": "prescribed-artist",
   "metadata": {},
   "outputs": [
    {
     "data": {
      "text/plain": [
       "(1691, 2)"
      ]
     },
     "execution_count": 152,
     "metadata": {},
     "output_type": "execute_result"
    }
   ],
   "source": [
    "df_genus.dropna(inplace=True)\n",
    "df_genus.shape"
   ]
  },
  {
   "cell_type": "code",
   "execution_count": 133,
   "id": "clinical-bradley",
   "metadata": {},
   "outputs": [],
   "source": [
    "def get_common_name(id_eol):\n",
    "    query = \"https://eol.org/api/pages/1.0/\" + str(id_eol)+ \".json?common_names=true\"\n",
    "    request = requests.get(query)\n",
    "    \n",
    "    vernacular_names = request.json()['taxonConcept']['vernacularNames']\n",
    "    \n",
    "    for i in range(len(vernacular_names)):\n",
    "        language = vernacular_names[i]['language']\n",
    "        eol_preferred = vernacular_names[i]['eol_preferred']\n",
    "        if language == 'en' and eol_preferred == True:\n",
    "            return vernacular_names[i]['vernacularName']\n",
    "        "
   ]
  },
  {
   "cell_type": "code",
   "execution_count": 134,
   "id": "female-crack",
   "metadata": {},
   "outputs": [
    {
     "name": "stderr",
     "output_type": "stream",
     "text": [
      "<ipython-input-134-49684335588c>:1: SettingWithCopyWarning: \n",
      "A value is trying to be set on a copy of a slice from a DataFrame.\n",
      "Try using .loc[row_indexer,col_indexer] = value instead\n",
      "\n",
      "See the caveats in the documentation: https://pandas.pydata.org/pandas-docs/stable/user_guide/indexing.html#returning-a-view-versus-a-copy\n",
      "  df_family['family_common_name'] = df_family['id_family_eol'].apply(get_common_name)\n"
     ]
    }
   ],
   "source": [
    "df_family['family_common_name'] = df_family['id_family_eol'].apply(get_common_name)"
   ]
  },
  {
   "cell_type": "code",
   "execution_count": 135,
   "id": "practical-stand",
   "metadata": {},
   "outputs": [
    {
     "data": {
      "text/html": [
       "<div>\n",
       "<style scoped>\n",
       "    .dataframe tbody tr th:only-of-type {\n",
       "        vertical-align: middle;\n",
       "    }\n",
       "\n",
       "    .dataframe tbody tr th {\n",
       "        vertical-align: top;\n",
       "    }\n",
       "\n",
       "    .dataframe thead th {\n",
       "        text-align: right;\n",
       "    }\n",
       "</style>\n",
       "<table border=\"1\" class=\"dataframe\">\n",
       "  <thead>\n",
       "    <tr style=\"text-align: right;\">\n",
       "      <th></th>\n",
       "      <th>family</th>\n",
       "      <th>id_family_eol</th>\n",
       "      <th>family_common_name</th>\n",
       "    </tr>\n",
       "  </thead>\n",
       "  <tbody>\n",
       "    <tr>\n",
       "      <th>4</th>\n",
       "      <td>Chromodorididae</td>\n",
       "      <td>46449475</td>\n",
       "      <td>None</td>\n",
       "    </tr>\n",
       "    <tr>\n",
       "      <th>11</th>\n",
       "      <td>Myrrhinidae</td>\n",
       "      <td>57281379</td>\n",
       "      <td>None</td>\n",
       "    </tr>\n",
       "    <tr>\n",
       "      <th>12</th>\n",
       "      <td>Serrasalmidae</td>\n",
       "      <td>47066240</td>\n",
       "      <td>None</td>\n",
       "    </tr>\n",
       "    <tr>\n",
       "      <th>18</th>\n",
       "      <td>Octopodidae</td>\n",
       "      <td>2322</td>\n",
       "      <td>None</td>\n",
       "    </tr>\n",
       "    <tr>\n",
       "      <th>44</th>\n",
       "      <td>Phyllidiidae</td>\n",
       "      <td>46450227</td>\n",
       "      <td>None</td>\n",
       "    </tr>\n",
       "    <tr>\n",
       "      <th>...</th>\n",
       "      <td>...</td>\n",
       "      <td>...</td>\n",
       "      <td>...</td>\n",
       "    </tr>\n",
       "    <tr>\n",
       "      <th>35774</th>\n",
       "      <td>Sertularellidae</td>\n",
       "      <td>51259906</td>\n",
       "      <td>None</td>\n",
       "    </tr>\n",
       "    <tr>\n",
       "      <th>36074</th>\n",
       "      <td>Prochilodontidae</td>\n",
       "      <td>6898</td>\n",
       "      <td>None</td>\n",
       "    </tr>\n",
       "    <tr>\n",
       "      <th>36312</th>\n",
       "      <td>Colossendeidae</td>\n",
       "      <td>6266</td>\n",
       "      <td>None</td>\n",
       "    </tr>\n",
       "    <tr>\n",
       "      <th>37537</th>\n",
       "      <td>Calliostomatidae</td>\n",
       "      <td>2376</td>\n",
       "      <td>None</td>\n",
       "    </tr>\n",
       "    <tr>\n",
       "      <th>37958</th>\n",
       "      <td>Spongicolidae</td>\n",
       "      <td>46516583</td>\n",
       "      <td>None</td>\n",
       "    </tr>\n",
       "  </tbody>\n",
       "</table>\n",
       "<p>281 rows × 3 columns</p>\n",
       "</div>"
      ],
      "text/plain": [
       "                 family  id_family_eol family_common_name\n",
       "4       Chromodorididae       46449475               None\n",
       "11          Myrrhinidae       57281379               None\n",
       "12        Serrasalmidae       47066240               None\n",
       "18          Octopodidae           2322               None\n",
       "44         Phyllidiidae       46450227               None\n",
       "...                 ...            ...                ...\n",
       "35774   Sertularellidae       51259906               None\n",
       "36074  Prochilodontidae           6898               None\n",
       "36312    Colossendeidae           6266               None\n",
       "37537  Calliostomatidae           2376               None\n",
       "37958     Spongicolidae       46516583               None\n",
       "\n",
       "[281 rows x 3 columns]"
      ]
     },
     "execution_count": 135,
     "metadata": {},
     "output_type": "execute_result"
    }
   ],
   "source": [
    "df_family[df_family['family_common_name'].isna()]"
   ]
  },
  {
   "cell_type": "code",
   "execution_count": 136,
   "id": "funky-enemy",
   "metadata": {},
   "outputs": [],
   "source": [
    "get_common_name(46449475)"
   ]
  },
  {
   "cell_type": "code",
   "execution_count": 105,
   "id": "enhanced-courage",
   "metadata": {},
   "outputs": [
    {
     "name": "stdout",
     "output_type": "stream",
     "text": [
      "{'vernacularName': 'Barbensalmler', 'language': 'de', 'eol_preferred': True}\n",
      "{'vernacularName': 'Nachtzalmen', 'language': 'nl', 'eol_preferred': True}\n",
      "{'vernacularName': 'Paprastieji tykotojai', 'language': 'lt', 'eol_preferred': True}\n",
      "{'vernacularName': 'Proquilodòntid', 'language': 'ca', 'eol_preferred': True}\n",
      "{'vernacularName': 'Прохилодонтовые', 'language': 'ru', 'eol_preferred': True}\n",
      "{'vernacularName': 'усести пастрмкопрапови', 'language': 'mk', 'eol_preferred': True}\n",
      "{'vernacularName': 'کاراسین\\u200cهای قیف\\u200cدهان', 'language': 'fa', 'eol_preferred': True}\n",
      "{'vernacularName': 'วงศ์ปลาอินซีเน็ต', 'language': 'th', 'eol_preferred': True}\n",
      "{'vernacularName': 'プロキロダス科', 'language': 'jp', 'eol_preferred': True}\n",
      "{'vernacularName': 'Barbensalmler', 'language': 'de', 'eol_preferred': False}\n",
      "{'vernacularName': 'Nachtzalmen', 'language': 'nl', 'eol_preferred': False}\n",
      "{'vernacularName': 'Paprastieji tykotojai', 'language': 'lt', 'eol_preferred': False}\n",
      "{'vernacularName': 'Proquilodòntid', 'language': 'ca', 'eol_preferred': False}\n",
      "{'vernacularName': 'Прохилодонтовые', 'language': 'ru', 'eol_preferred': False}\n",
      "{'vernacularName': 'усести пастрмкопрапови', 'language': 'mk', 'eol_preferred': False}\n",
      "{'vernacularName': 'کاراسین\\u200cهای قیف\\u200cدهان', 'language': 'fa', 'eol_preferred': False}\n",
      "{'vernacularName': 'วงศ์ปลาอินซีเน็ต', 'language': 'th', 'eol_preferred': False}\n",
      "{'vernacularName': 'プロキロダス科', 'language': 'jp', 'eol_preferred': False}\n",
      "{'vernacularName': 'Barbensalmler', 'language': 'de', 'eol_preferred': False}\n",
      "{'vernacularName': 'Nachtzalmen', 'language': 'nl', 'eol_preferred': False}\n",
      "{'vernacularName': 'Paprastieji tykotojai', 'language': 'lt', 'eol_preferred': False}\n",
      "{'vernacularName': 'Proquilodòntid', 'language': 'ca', 'eol_preferred': False}\n",
      "{'vernacularName': 'Прохилодонтовые', 'language': 'ru', 'eol_preferred': False}\n",
      "{'vernacularName': 'усести пастрмкопрапови', 'language': 'mk', 'eol_preferred': False}\n",
      "{'vernacularName': 'کاراسین\\u200cهای قیف\\u200cدهان', 'language': 'fa', 'eol_preferred': False}\n",
      "{'vernacularName': 'วงศ์ปลาอินซีเน็ต', 'language': 'th', 'eol_preferred': False}\n",
      "{'vernacularName': 'プロキロダス科', 'language': 'jp', 'eol_preferred': False}\n",
      "{'vernacularName': 'プロキロダス科', 'language': 'jp', 'eol_preferred': False}\n",
      "{'vernacularName': 'プロキロダス科', 'language': 'jp', 'eol_preferred': False}\n",
      "{'vernacularName': 'プロキロダス科', 'language': 'jp', 'eol_preferred': True}\n",
      "{'vernacularName': 'プロキロダス科', 'language': 'jp', 'eol_preferred': False}\n"
     ]
    }
   ],
   "source": [
    "query = \"https://eol.org/api/pages/1.0/\" + str(6898)+ \".json?common_names=true\"\n",
    "request = requests.get(query)\n",
    "for i in range(len(request.json()['taxonConcept']['vernacularNames'])):\n",
    "    language = request.json()['taxonConcept']['vernacularNames'][i]['language']\n",
    "    eol_preferred = request.json()['taxonConcept']['vernacularNames'][i]['eol_preferred']\n",
    "    print(request.json()['taxonConcept']['vernacularNames'][i])\n",
    "    #if language == 'en' and eol_preferred == True:\n",
    "        #print(request.json()['taxonConcept']['vernacularNames'][i]['vernacularName'])"
   ]
  }
 ],
 "metadata": {
  "kernelspec": {
   "display_name": "Python 3",
   "language": "python",
   "name": "python3"
  },
  "language_info": {
   "codemirror_mode": {
    "name": "ipython",
    "version": 3
   },
   "file_extension": ".py",
   "mimetype": "text/x-python",
   "name": "python",
   "nbconvert_exporter": "python",
   "pygments_lexer": "ipython3",
   "version": "3.8.5"
  }
 },
 "nbformat": 4,
 "nbformat_minor": 5
}
