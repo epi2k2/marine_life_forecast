{
 "cells": [
  {
   "cell_type": "markdown",
   "id": "adapted-orbit",
   "metadata": {
    "toc": true
   },
   "source": [
    "<h1>Table of Contents<span class=\"tocSkip\"></span></h1>\n",
    "<div class=\"toc\"><ul class=\"toc-item\"><li><span><a href=\"#Marine-life-forecast---KNNImputer\" data-toc-modified-id=\"Marine-life-forecast---KNNImputer-1\"><span class=\"toc-item-num\">1&nbsp;&nbsp;</span>Marine life forecast - KNNImputer</a></span><ul class=\"toc-item\"><li><span><a href=\"#Introduction\" data-toc-modified-id=\"Introduction-1.1\"><span class=\"toc-item-num\">1.1&nbsp;&nbsp;</span>Introduction</a></span></li></ul></li><li><span><a href=\"#Importing-libraries\" data-toc-modified-id=\"Importing-libraries-2\"><span class=\"toc-item-num\">2&nbsp;&nbsp;</span>Importing libraries</a></span></li><li><span><a href=\"#Importing-data\" data-toc-modified-id=\"Importing-data-3\"><span class=\"toc-item-num\">3&nbsp;&nbsp;</span>Importing data</a></span></li><li><span><a href=\"#KNNImputer\" data-toc-modified-id=\"KNNImputer-4\"><span class=\"toc-item-num\">4&nbsp;&nbsp;</span>KNNImputer</a></span><ul class=\"toc-item\"><li><span><a href=\"#Creating-knn-imputer\" data-toc-modified-id=\"Creating-knn-imputer-4.1\"><span class=\"toc-item-num\">4.1&nbsp;&nbsp;</span>Creating knn imputer</a></span></li><li><span><a href=\"#Testing-the-imputer\" data-toc-modified-id=\"Testing-the-imputer-4.2\"><span class=\"toc-item-num\">4.2&nbsp;&nbsp;</span>Testing the imputer</a></span></li><li><span><a href=\"#Saving-the-imputer\" data-toc-modified-id=\"Saving-the-imputer-4.3\"><span class=\"toc-item-num\">4.3&nbsp;&nbsp;</span>Saving the imputer</a></span></li></ul></li></ul></div>"
   ]
  },
  {
   "cell_type": "markdown",
   "id": "original-accounting",
   "metadata": {},
   "source": [
    "# Marine life forecast - KNNImputer"
   ]
  },
  {
   "cell_type": "markdown",
   "id": "efficient-strip",
   "metadata": {},
   "source": [
    "## Introduction\n",
    "In this notebook I'll create a transformer to preproccess coordinates and assign a locality, a water body and a country code"
   ]
  },
  {
   "cell_type": "markdown",
   "id": "legendary-report",
   "metadata": {},
   "source": [
    "# Importing libraries"
   ]
  },
  {
   "cell_type": "code",
   "execution_count": 1,
   "id": "august-alfred",
   "metadata": {},
   "outputs": [],
   "source": [
    "import pandas as pd\n",
    "import numpy as np\n",
    "from sklearn.impute import KNNImputer\n",
    "from sklearn.preprocessing import LabelEncoder\n",
    "import pickle\n",
    "pd.options.display.max_columns = None"
   ]
  },
  {
   "cell_type": "markdown",
   "id": "exterior-warrant",
   "metadata": {},
   "source": [
    "# Importing data"
   ]
  },
  {
   "cell_type": "code",
   "execution_count": 2,
   "id": "thousand-concern",
   "metadata": {},
   "outputs": [],
   "source": [
    "data_folder = './data/'\n",
    "input_file = 'occurrence_aggregated.txt'\n",
    "df = pd.read_csv(data_folder + input_file)"
   ]
  },
  {
   "cell_type": "code",
   "execution_count": 3,
   "id": "assumed-reference",
   "metadata": {
    "scrolled": false
   },
   "outputs": [
    {
     "data": {
      "text/html": [
       "<div>\n",
       "<style scoped>\n",
       "    .dataframe tbody tr th:only-of-type {\n",
       "        vertical-align: middle;\n",
       "    }\n",
       "\n",
       "    .dataframe tbody tr th {\n",
       "        vertical-align: top;\n",
       "    }\n",
       "\n",
       "    .dataframe thead th {\n",
       "        text-align: right;\n",
       "    }\n",
       "</style>\n",
       "<table border=\"1\" class=\"dataframe\">\n",
       "  <thead>\n",
       "    <tr style=\"text-align: right;\">\n",
       "      <th></th>\n",
       "      <th>decimalLatitude</th>\n",
       "      <th>decimalLongitude</th>\n",
       "      <th>waterBody</th>\n",
       "      <th>locality</th>\n",
       "      <th>countryCode</th>\n",
       "      <th>hour</th>\n",
       "      <th>day</th>\n",
       "      <th>month</th>\n",
       "      <th>depth</th>\n",
       "    </tr>\n",
       "  </thead>\n",
       "  <tbody>\n",
       "    <tr>\n",
       "      <th>0</th>\n",
       "      <td>-13.9387</td>\n",
       "      <td>-171.553</td>\n",
       "      <td>South Pacific Ocean</td>\n",
       "      <td>Taliga</td>\n",
       "      <td>WS</td>\n",
       "      <td>10</td>\n",
       "      <td>29</td>\n",
       "      <td>5</td>\n",
       "      <td>13.50</td>\n",
       "    </tr>\n",
       "    <tr>\n",
       "      <th>1</th>\n",
       "      <td>-13.9387</td>\n",
       "      <td>-171.553</td>\n",
       "      <td>South Pacific Ocean</td>\n",
       "      <td>Cowabunga</td>\n",
       "      <td>WS</td>\n",
       "      <td>12</td>\n",
       "      <td>29</td>\n",
       "      <td>5</td>\n",
       "      <td>10.20</td>\n",
       "    </tr>\n",
       "    <tr>\n",
       "      <th>2</th>\n",
       "      <td>-13.9387</td>\n",
       "      <td>-171.553</td>\n",
       "      <td>South Pacific Ocean</td>\n",
       "      <td>Cowabunga</td>\n",
       "      <td>WS</td>\n",
       "      <td>12</td>\n",
       "      <td>30</td>\n",
       "      <td>5</td>\n",
       "      <td>9.75</td>\n",
       "    </tr>\n",
       "    <tr>\n",
       "      <th>3</th>\n",
       "      <td>-13.9387</td>\n",
       "      <td>-171.553</td>\n",
       "      <td>South Pacific Ocean</td>\n",
       "      <td>Cowabunga</td>\n",
       "      <td>WS</td>\n",
       "      <td>10</td>\n",
       "      <td>30</td>\n",
       "      <td>5</td>\n",
       "      <td>10.50</td>\n",
       "    </tr>\n",
       "    <tr>\n",
       "      <th>4</th>\n",
       "      <td>53.8635</td>\n",
       "      <td>-166.049</td>\n",
       "      <td>Hidden Lake</td>\n",
       "      <td>Sunrise Grand Select Montemare Resort House Reef</td>\n",
       "      <td>EG</td>\n",
       "      <td>18</td>\n",
       "      <td>22</td>\n",
       "      <td>7</td>\n",
       "      <td>10.00</td>\n",
       "    </tr>\n",
       "  </tbody>\n",
       "</table>\n",
       "</div>"
      ],
      "text/plain": [
       "   decimalLatitude  decimalLongitude            waterBody  \\\n",
       "0         -13.9387          -171.553  South Pacific Ocean   \n",
       "1         -13.9387          -171.553  South Pacific Ocean   \n",
       "2         -13.9387          -171.553  South Pacific Ocean   \n",
       "3         -13.9387          -171.553  South Pacific Ocean   \n",
       "4          53.8635          -166.049          Hidden Lake   \n",
       "\n",
       "                                           locality countryCode  hour  day  \\\n",
       "0                                            Taliga          WS    10   29   \n",
       "1                                         Cowabunga          WS    12   29   \n",
       "2                                         Cowabunga          WS    12   30   \n",
       "3                                         Cowabunga          WS    10   30   \n",
       "4  Sunrise Grand Select Montemare Resort House Reef          EG    18   22   \n",
       "\n",
       "   month  depth  \n",
       "0      5  13.50  \n",
       "1      5  10.20  \n",
       "2      5   9.75  \n",
       "3      5  10.50  \n",
       "4      7  10.00  "
      ]
     },
     "execution_count": 3,
     "metadata": {},
     "output_type": "execute_result"
    }
   ],
   "source": [
    "columns =['decimalLatitude', 'decimalLongitude', 'waterBody',\n",
    "          'locality', 'countryCode', 'hour', 'day', 'month', 'depth']\n",
    "df = df[columns]\n",
    "df.head()"
   ]
  },
  {
   "cell_type": "markdown",
   "id": "ruled-helena",
   "metadata": {},
   "source": [
    "# KNNImputer"
   ]
  },
  {
   "cell_type": "markdown",
   "id": "sound-tomato",
   "metadata": {},
   "source": [
    "## Creating knn imputer"
   ]
  },
  {
   "cell_type": "markdown",
   "id": "directed-token",
   "metadata": {},
   "source": [
    "Convert to uppercase"
   ]
  },
  {
   "cell_type": "code",
   "execution_count": 4,
   "id": "interim-edwards",
   "metadata": {},
   "outputs": [],
   "source": [
    "df['locality'] = df['locality'].str.upper()\n",
    "df['waterBody'] = df['waterBody'].str.upper()\n",
    "df['countryCode'] = df['countryCode'].str.upper()"
   ]
  },
  {
   "cell_type": "markdown",
   "id": "intended-printer",
   "metadata": {},
   "source": [
    "This function receives a dataframe and a column as parameters:\n",
    "- Converts the column received as parameter to number using label encoder\n",
    "- Create a knn imputer with 1 neighbor\n",
    "- Create a new column transforming the input column with the label encoder\n",
    "- Fit the knn imputer with the labeled column from previous step\n",
    "- Returns the label encoder object and the knn imputer object to reverse the proccess in the next function"
   ]
  },
  {
   "cell_type": "code",
   "execution_count": 5,
   "id": "weekly-greensboro",
   "metadata": {},
   "outputs": [],
   "source": [
    "def knn_fit(data, column):\n",
    "    le = LabelEncoder()\n",
    "    knn = KNNImputer(n_neighbors=1)\n",
    "    le.fit(data[column])\n",
    "    data_aux = data[['decimalLatitude', 'decimalLongitude', column]].copy()\n",
    "    data_aux[column+'_aux'] = le.transform(data_aux[column])\n",
    "    knn.fit(data_aux[['decimalLatitude', 'decimalLongitude', column+'_aux']])\n",
    "    return le, knn"
   ]
  },
  {
   "cell_type": "markdown",
   "id": "weekly-trace",
   "metadata": {},
   "source": [
    "This function receives a dataframe, a label encoder object, a knn imputer object and a column:\n",
    "- Creates a new column with the name of the column received as parameter and adding _aux at the end of the name\n",
    "- Fills the new columns with nans\n",
    "- Applies the knn imputer to impute the nan values of the columns, that fills the column with continuous values\n",
    "- Round the number, necessary for the next step\n",
    "- Applies inverse of label encoder to get the original name \n",
    "\n",
    "This function is only for testing in this notebook. The same function will be created in the application"
   ]
  },
  {
   "cell_type": "code",
   "execution_count": 6,
   "id": "virgin-skirt",
   "metadata": {},
   "outputs": [],
   "source": [
    "def knn_transform(data, le, knn, column):\n",
    "    data_aux = data[['decimalLatitude', 'decimalLongitude']].copy()\n",
    "    data_aux[column+'_aux'] = np.nan\n",
    "    data_aux[column+'_aux'] = np.around(knn.transform(data_aux)[:,2]).astype(int)\n",
    "    return le.inverse_transform(data_aux[column+'_aux'])"
   ]
  },
  {
   "cell_type": "markdown",
   "id": "indian-distance",
   "metadata": {},
   "source": [
    "Create a list that will contain the label encoder and knn imputer of locality, water body and country code. This list will be saved to disk and imported in the application"
   ]
  },
  {
   "cell_type": "code",
   "execution_count": 7,
   "id": "distinct-annual",
   "metadata": {},
   "outputs": [],
   "source": [
    "knn_parts = []\n",
    "\n",
    "knn_parts.append(knn_fit(df, 'locality'))\n",
    "knn_parts.append(knn_fit(df, 'waterBody'))\n",
    "knn_parts.append(knn_fit(df, 'countryCode'))"
   ]
  },
  {
   "cell_type": "markdown",
   "id": "headed-thumbnail",
   "metadata": {},
   "source": [
    "## Testing the imputer"
   ]
  },
  {
   "cell_type": "code",
   "execution_count": 8,
   "id": "ranking-saudi",
   "metadata": {
    "scrolled": true
   },
   "outputs": [],
   "source": [
    "X_test = df[8000:]"
   ]
  },
  {
   "cell_type": "code",
   "execution_count": 9,
   "id": "prepared-satin",
   "metadata": {
    "scrolled": false
   },
   "outputs": [
    {
     "data": {
      "text/plain": [
       "array(['AQUARIUM', 'SIRA ISLAND', 'SIRA ISLAND', ..., \"ANNIE'S BOMMIE\",\n",
       "       \"ANNIE'S BOMMIE\", 'SAND CAY'], dtype=object)"
      ]
     },
     "execution_count": 9,
     "metadata": {},
     "output_type": "execute_result"
    }
   ],
   "source": [
    "knn_transform(X_test, knn_parts[0][0], knn_parts[0][1], 'locality')"
   ]
  },
  {
   "cell_type": "markdown",
   "id": "german-footage",
   "metadata": {},
   "source": [
    "## Saving the imputer"
   ]
  },
  {
   "cell_type": "code",
   "execution_count": 10,
   "id": "standing-ukraine",
   "metadata": {},
   "outputs": [],
   "source": [
    "models_folder = './models/'\n",
    "filename = 'knn.sav'\n",
    "pickle.dump(knn_parts, open(models_folder + filename, 'wb'))"
   ]
  }
 ],
 "metadata": {
  "kernelspec": {
   "display_name": "Python 3",
   "language": "python",
   "name": "python3"
  },
  "language_info": {
   "codemirror_mode": {
    "name": "ipython",
    "version": 3
   },
   "file_extension": ".py",
   "mimetype": "text/x-python",
   "name": "python",
   "nbconvert_exporter": "python",
   "pygments_lexer": "ipython3",
   "version": "3.8.5"
  },
  "toc": {
   "base_numbering": 1,
   "nav_menu": {},
   "number_sections": true,
   "sideBar": true,
   "skip_h1_title": false,
   "title_cell": "Table of Contents",
   "title_sidebar": "Contents",
   "toc_cell": true,
   "toc_position": {},
   "toc_section_display": true,
   "toc_window_display": true
  }
 },
 "nbformat": 4,
 "nbformat_minor": 5
}
